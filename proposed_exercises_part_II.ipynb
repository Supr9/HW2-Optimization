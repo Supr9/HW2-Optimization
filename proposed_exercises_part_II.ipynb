{
 "cells": [
  {
   "cell_type": "markdown",
   "metadata": {},
   "source": [
    "# WATER POLLUTION"
   ]
  },
  {
   "cell_type": "code",
   "execution_count": 7,
   "metadata": {},
   "outputs": [
    {
     "name": "stdout",
     "output_type": "stream",
     "text": [
      "Optimal solution:\n",
      "[0.15492955 1.5633803  6.71830985]\n",
      "Optimal cost:\n",
      "192.86619718309862\n"
     ]
    }
   ],
   "source": [
    "from scipy.optimize import minimize\n",
    "\n",
    "# Parameters\n",
    "n = 3  # Number of sources\n",
    "m = 2  # Number of water quality points\n",
    "u = [15, 15, 20]  # Maximum pounds of BOD that can be removed at each source\n",
    "a = [[1, 2, 1], [0, 1, 2]]  # Quality response matrix\n",
    "b = [10, 15]  # Minimum desired improvement in water quality\n",
    "c = [4, 8, 3]  # Quadratic coefficient for cost function\n",
    "d = [2, 1.5, 3]  # Linear coefficient for cost function\n",
    "e = [5, 3, 7]  # Constant term for cost function\n",
    "\n",
    "\n",
    "# Define the cost function for removing x_j pounds of BOD at source j\n",
    "def cost_function(x, c, d, e):\n",
    "    return c * x**2 + d * x + e\n",
    "\n",
    "# Define the objective function\n",
    "def objective_function(x, c, d, e):\n",
    "    return sum(cost_function(x[j], c[j], d[j], e[j]) for j in range(len(x)))\n",
    "\n",
    "# Define the equality constraint functions\n",
    "def equality_constraint(x, a, b):\n",
    "    return [sum(a[i][j] * x[j] for j in range(len(x))) - b[i] for i in range(len(b))]\n",
    "\n",
    "# Define the inequality constraint bounds\n",
    "constraint_bounds = [(0, u[j]) for j in range(len(u))]\n",
    "\n",
    "# Initial guess for x\n",
    "initial_guess = [0.0] * len(u)\n",
    "\n",
    "# # Define parameters\n",
    "# n = 3  # Number of sources\n",
    "# m = 2  # Number of water quality points\n",
    "# u = [10, 15, 20]  # Maximum pounds of BOD that can be removed at each source\n",
    "# a = [[1, 2, 1], [0, 1, 2]]  # Quality response matrix\n",
    "# b = [10, 15]  # Minimum desired improvement in water quality\n",
    "# c = [0.1, 0.05, 0.08]  # Quadratic coefficient for cost function\n",
    "# d = [2, 1.5, 3]  # Linear coefficient for cost function\n",
    "# e = [5, 3, 7]  # Constant term for cost function\n",
    "\n",
    "# Solve the optimization problem\n",
    "result = minimize(objective_function, initial_guess, args=(c, d, e),\n",
    "                  constraints={'type': 'eq', 'fun': equality_constraint, 'args': (a, b)},\n",
    "                  bounds=constraint_bounds, method='SLSQP')\n",
    "\n",
    "# Display the results\n",
    "print(\"Optimal solution:\")\n",
    "print(result.x)\n",
    "print(\"Optimal cost:\")\n",
    "print(result.fun)\n"
   ]
  },
  {
   "cell_type": "markdown",
   "metadata": {},
   "source": [
    "# UNIVERSITY PLACEMENT GRADUATES"
   ]
  },
  {
   "cell_type": "code",
   "execution_count": 8,
   "metadata": {},
   "outputs": [
    {
     "name": "stdout",
     "output_type": "stream",
     "text": [
      "Optimal solution:\n",
      "[0.2951049  0.36876457 0.33613054]\n",
      "Optimal cost:\n",
      "1103.8927738927741\n"
     ]
    }
   ],
   "source": [
    "from scipy.optimize import minimize\n",
    "\n",
    "# Define the objective function\n",
    "def objective_function(lambda_vals, *args):\n",
    "    n, G, I, A, N = args\n",
    "    squared_differences = [(G[j] - lambda_vals[0] * N[j])**2 + (I[j] - lambda_vals[1] * N[j])**2 + (A[j] - lambda_vals[2] * N[j])**2 for j in range(n)]\n",
    "    return sum(squared_differences)\n",
    "\n",
    "# Define the equality constraint\n",
    "def equality_constraint(lambda_vals):\n",
    "    return lambda_vals[0] + lambda_vals[1] + lambda_vals[2] - 1\n",
    "\n",
    "# Set numerical values for the parameters\n",
    "n = 5  # Number of years\n",
    "N = [100, 120, 90, 110, 95]  # Number of graduates in each year\n",
    "G = [30, 40, 20, 35, 25]  # Graduates entering government positions\n",
    "I = [50, 30, 40, 30, 45]  # Graduates entering industry positions\n",
    "A = [20, 50, 30, 45, 25]  # Graduates entering academia positions\n",
    "\n",
    "# Initial guess for lambda values\n",
    "initial_guess = [0.33, 0.33, 0.34]\n",
    "\n",
    "# Define constraint bounds\n",
    "constraint_bounds = [(0, 1) for _ in range(3)]  # Lambda values should be between 0 and 1\n",
    "\n",
    "# Solve the optimization problem\n",
    "result = minimize(objective_function, initial_guess, args=(n, G, I, A, N),\n",
    "                  constraints={'type': 'eq', 'fun': equality_constraint},\n",
    "                  bounds=constraint_bounds, method='SLSQP')\n",
    "\n",
    "# Display the results\n",
    "print(\"Optimal solution:\")\n",
    "print(result.x)\n",
    "print(\"Optimal cost:\")\n",
    "print(result.fun)\n"
   ]
  },
  {
   "cell_type": "code",
   "execution_count": null,
   "metadata": {},
   "outputs": [],
   "source": []
  }
 ],
 "metadata": {
  "kernelspec": {
   "display_name": "base",
   "language": "python",
   "name": "python3"
  },
  "language_info": {
   "codemirror_mode": {
    "name": "ipython",
    "version": 3
   },
   "file_extension": ".py",
   "mimetype": "text/x-python",
   "name": "python",
   "nbconvert_exporter": "python",
   "pygments_lexer": "ipython3",
   "version": "3.8.17"
  }
 },
 "nbformat": 4,
 "nbformat_minor": 2
}
