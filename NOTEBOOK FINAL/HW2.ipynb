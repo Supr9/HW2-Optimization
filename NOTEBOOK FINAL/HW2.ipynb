{
 "cells": [
  {
   "cell_type": "markdown",
   "metadata": {},
   "source": [
    "#### Optimization & Analytics 23/24\n",
    "\n",
    "#### Names:\n",
    "\n",
    "##### - Mohamed Afif Chifaoui (100452024)\n",
    "##### - Ricardo Vazquez Alvarez (100417117)\n",
    "\n",
    "---\n"
   ]
  },
  {
   "cell_type": "markdown",
   "metadata": {},
   "source": [
    "# Network Optimization and Non-linear models HW2"
   ]
  },
  {
   "cell_type": "markdown",
   "metadata": {},
   "source": [
    "## 1. Network problem\n",
    "\n",
    "Our **network optimization** relies on the Max-Flow Problem.\n",
    "Spain is known to be the **main** exporter in the world, with anual exportations surpassing the 210 thousand of tons.\n",
    "\n",
    "However, in order to export these quantities the neighboring countries of Spain only allow a certain amount of oil to be passed through their roads, denominated as **maximum**. On the other hand, each of the importer countries do require a minimum quantity of oil to keep this agreement with Spain.\n",
    "\n",
    "Our goal is to find the maximum amount of flow(tons of oil) that can circulate between countries in order to export the amount of olive oil required by each country.In this case, destination importers are **Ireland**, **Poland**,**Italy** and **Switzerland**.\n",
    "\n",
    "\n",
    "\n",
    "!['oil'](img/oil.jpg)"
   ]
  },
  {
   "cell_type": "markdown",
   "metadata": {},
   "source": [
    "### MODEL FORMULATION\n",
    "\n",
    "#### SETS\n",
    "\n",
    "- C = Set of Countries (each one represent a **node**). (to denote we use the subscript C.)\n",
    "  \n",
    "    - (**Destinations:** Ireland, Poland, Italy, Switzerland ; **In between:** France, Monaco, UK, Belgium, Netherlands, and Germany. **Origin**: Spain.)\n",
    "  \n",
    "- P = Set of connections (connected countries for flow). Shown as a set ($\\text{country}_i , \\text{country}_j$).\n",
    "\n",
    "\n",
    "\n",
    "\n",
    "#### PARAMETERS\n",
    "\n",
    "- Origin = source node, in our case **SPAIN**\n",
    "\n",
    "- Maximum = maximum quantity of olive oil allowed to pass from country to country in pairs ($\\text{country}_i \\rightarrow \\text{country}_j$) represented as **$M_{ij}$**.\n",
    "\n",
    "- Needs = amount of olive oil required by importer countries. $N_{i}$.\n",
    "\n",
    "\n",
    "#### VARIABLES\n",
    "\n",
    "- $Flow_{ij}$ = flow between country *i* to country *j*\n",
    "  \n",
    "- For each pair of nodes $i,j \\in C$ that are defined in P (as the explicit pairs allowed).\n",
    " \n",
    "$$Flow_{ij}=\\left\\{\\begin{array}{ll}\n",
    "\\text{max flow} & \\textrm{if there is flow $j$ right after node $i$}\\\\\n",
    "0 & \\textrm{otherwise}\n",
    "\\end{array}\\right.$$\n",
    "\n",
    "\n",
    "#### OBJECTIVE FUNCTION\n",
    "\n",
    "Objective function is to maximize the amount of olive oil arriving at the final nodes (importer countries $\\in N$ ). Therefore, it is the total sum of the flow in every pair of countries **(connections)** that arrive to a final destination defined in the Needs Parameter (Ireland, Poland, Switzerland, Italy).\n",
    "\n",
    "$$\\text{max} \\;\\; \\sum_{i,j\\in P}^{} Flow_{ij}, \\quad\\forall j \\in \\text{Needs}$$\n",
    "\n",
    "\n",
    "#### CONSTRAINTS\n",
    "\n",
    "- 1. Flow of oil outward of each country (in each pair of connections in P) must be less than the maximum amount it has:\n",
    "\n",
    "$$\\forall{i,j \\in C}, \\;\\text{for pairs ij} \\in P,\\quad  flow_{ij} \\;\\;\\leq\\;\\; maximum_{ij}$$\n",
    "\n",
    "- 2. **Flow Conservation Rule**. Flow into a node must be equal to the flow out of a node except if we are in source (Origin = Spain) or destination (Needs = Ireland, Switzerland, Italy, Poland), to fulfill.\n",
    "  \n",
    "\n",
    "$$ \\forall{b \\in C}, \\sum_{i \\in P} Flow_{ib} = \\sum_{j \\in P} Flow_{bj} \\;\\;\\text{iff}\\;\\; b\\neq j, \\;j \\in \\text{Needs} \\;\\text{or} \\;\\;i \\in \\text{Origin} $$\n",
    "\n",
    "\n",
    "- 3. We must ensure that that importer countries receive at least their required amount of oil pacted in the agreement.\n",
    "\n",
    "\n",
    "$$\\forall{b \\in C}, \\sum_{b,j \\in C} Flow_{bj} \\geq \\text{Needs}_j$$\n",
    "\n",
    "\n",
    "\n"
   ]
  },
  {
   "cell_type": "code",
   "execution_count": 1,
   "metadata": {},
   "outputs": [],
   "source": [
    "import pandas as pd\n",
    "import numpy as np\n",
    "from pyomo.environ import * \n",
    "import pandas\n",
    "import math"
   ]
  },
  {
   "cell_type": "code",
   "execution_count": 2,
   "metadata": {},
   "outputs": [
    {
     "name": "stdout",
     "output_type": "stream",
     "text": [
      "Overwriting olive.dat\n"
     ]
    }
   ],
   "source": [
    "%%writefile olive.dat\n",
    "set C := Spain Ireland Poland Italy Switzerland France Monaco UK Belgium Netherlands Germany;\n",
    "set P := (Spain, France) (Spain, Italy) (France, Monaco) (France, Italy) (France, Switzerland) (France, Belgium) (France, UK) (Belgium, Netherlands) (Belgium, Germany) (France, Germany) (UK, Ireland) (Netherlands, Germany) (Germany, Poland);\n",
    "\n",
    "param origin := Spain;\n",
    "\n",
    "\n",
    "param maximum :=\n",
    "Spain France 160\n",
    "Spain Italy 50\n",
    "France Monaco 20\n",
    "France Italy 150\n",
    "France Switzerland 40\n",
    "France Belgium 40\n",
    "France UK 50\n",
    "Belgium Netherlands 30\n",
    "Belgium Germany 40\n",
    "France Germany 30\n",
    "UK Ireland 50\n",
    "Netherlands Germany 20\n",
    "Germany Poland 60;\n",
    "\n",
    "param needs :=\n",
    "Ireland 50\n",
    "Poland 45\n",
    "Italy 100\n",
    "Switzerland 15;\n",
    "\n"
   ]
  },
  {
   "cell_type": "code",
   "execution_count": 3,
   "metadata": {},
   "outputs": [
    {
     "name": "stdout",
     "output_type": "stream",
     "text": [
      "Overwriting olive_exp.py\n"
     ]
    }
   ],
   "source": [
    "%%writefile olive_exp.py\n",
    "from pyomo.environ import * \n",
    "\n",
    "model = AbstractModel()\n",
    "\n",
    "model.C = Set()\n",
    "\n",
    "# Initialize the Points with the cartesian product of the countries we have.\n",
    "model.P = Set(within = model.C*model.C)\n",
    "\n",
    "# Spain is the starting point -> ORIGIN NODE\n",
    "model.origin = Param(within = model.C)\n",
    "\n",
    "model.maximum = Param(model.P)\n",
    "\n",
    "model.needs = Param(model.C)\n",
    "\n",
    "# Decision variables\n",
    "model.flow = Var(model.P, within=NonNegativeIntegers)\n",
    "\n",
    "# Objective Function\n",
    "\n",
    "def objective_rule(model):\n",
    "\n",
    "    obj_val = sum(model.flow[origin,dest] for origin,dest in model.P if dest =='Ireland' or dest =='Poland' or dest == 'Italy' or dest =='Switzerland')\n",
    "\n",
    "    return obj_val\n",
    "\n",
    "model.obj = Objective(rule = objective_rule, sense = maximize)\n",
    "\n",
    "# Constraint 1\n",
    "def allowed_quantity(model, m, n):\n",
    "    return model.flow[m, n] <= model.maximum[m, n]\n",
    "\n",
    "\n",
    "\n",
    "# Constraint 2\n",
    "def flow_rule(model , k):\n",
    "    # if it is a final destination - dont flow out . If it is not then make sure the inflow and outflow are equal.\n",
    "    if k in [\"Italy\", \"Switzerland\", \"Ireland\",\"Poland\", value(model.origin)]:\n",
    "        return Constraint.Skip\n",
    "    \n",
    "    # the inflow from one origin to a destination MUST equal the outflow from origin to destination.\n",
    "    # calculating the inflow\n",
    "    inflow = sum(model.flow[origin,dest] for (origin,dest) in model.P if dest==k)\n",
    "    # calculating the outflow.\n",
    "    outflow = sum(model.flow[origin,dest] for (origin,dest) in model.P if origin==k)\n",
    "\n",
    "    return inflow==outflow\n",
    "\n",
    "\n",
    "# Constraint 3\n",
    "def requested_oil(model, i):\n",
    "    if i in [\"Italy\", \"Switzerland\", \"Ireland\",\"Poland\"]:\n",
    "        return sum(model.flow[j, k] for (j,k) in model.P if k==i)>=model.needs[i]\n",
    "    else:\n",
    "        return Constraint.Skip\n",
    "\n",
    "\n",
    "model.flow_rule = Constraint(model.C, rule = flow_rule)\n",
    "model.allowed_quantity = Constraint(model.P, rule = allowed_quantity)\n",
    "model.requested_oil = Constraint(model.C, rule = requested_oil)\n"
   ]
  },
  {
   "cell_type": "code",
   "execution_count": 4,
   "metadata": {},
   "outputs": [
    {
     "name": "stdout",
     "output_type": "stream",
     "text": [
      "[    0.00] Setting up Pyomo environment\n",
      "[    0.00] Applying Pyomo preprocessing actions\n",
      "[    0.02] Creating model\n",
      "[    0.04] Applying solver\n",
      "[    0.26] Processing results\n",
      "    Number of solutions: 1\n",
      "    Solution Information\n",
      "      Gap: 0.0\n",
      "      Status: optimal\n",
      "      Function Value: 210.0\n",
      "    Solver results file: results.yml\n",
      "\n",
      "==========================================================\n",
      "Solution Summary\n",
      "==========================================================\n",
      "\n",
      "Model unknown\n",
      "\n",
      "  Variables:\n",
      "    flow : Size=13, Index=P\n",
      "        Key                        : Lower : Value : Upper : Fixed : Stale : Domain\n",
      "            ('Belgium', 'Germany') :     0 :  40.0 :  None : False : False : NonNegativeIntegers\n",
      "        ('Belgium', 'Netherlands') :     0 :   0.0 :  None : False : False : NonNegativeIntegers\n",
      "             ('France', 'Belgium') :     0 :  40.0 :  None : False : False : NonNegativeIntegers\n",
      "             ('France', 'Germany') :     0 :   5.0 :  None : False : False : NonNegativeIntegers\n",
      "               ('France', 'Italy') :     0 :  50.0 :  None : False : False : NonNegativeIntegers\n",
      "              ('France', 'Monaco') :     0 :   0.0 :  None : False : False : NonNegativeIntegers\n",
      "         ('France', 'Switzerland') :     0 :  15.0 :  None : False : False : NonNegativeIntegers\n",
      "                  ('France', 'UK') :     0 :  50.0 :  None : False : False : NonNegativeIntegers\n",
      "             ('Germany', 'Poland') :     0 :  45.0 :  None : False : False : NonNegativeIntegers\n",
      "        ('Netherlands', 'Germany') :     0 :   0.0 :  None : False : False : NonNegativeIntegers\n",
      "               ('Spain', 'France') :     0 : 160.0 :  None : False : False : NonNegativeIntegers\n",
      "                ('Spain', 'Italy') :     0 :  50.0 :  None : False : False : NonNegativeIntegers\n",
      "                 ('UK', 'Ireland') :     0 :  50.0 :  None : False : False : NonNegativeIntegers\n",
      "\n",
      "  Objectives:\n",
      "    obj : Size=1, Index=None, Active=True\n",
      "        Key  : Active : Value\n",
      "        None :   True : 210.0\n",
      "\n",
      "  Constraints:\n",
      "    flow_rule : Size=6\n",
      "        Key         : Lower : Body : Upper\n",
      "            Belgium :   0.0 :  0.0 :   0.0\n",
      "             France :   0.0 :  0.0 :   0.0\n",
      "            Germany :   0.0 :  0.0 :   0.0\n",
      "             Monaco :   0.0 :  0.0 :   0.0\n",
      "        Netherlands :   0.0 :  0.0 :   0.0\n",
      "                 UK :   0.0 :  0.0 :   0.0\n",
      "    allowed_quantity : Size=13\n",
      "        Key                        : Lower : Body  : Upper\n",
      "            ('Belgium', 'Germany') :  None :  40.0 :  40.0\n",
      "        ('Belgium', 'Netherlands') :  None :   0.0 :  30.0\n",
      "             ('France', 'Belgium') :  None :  40.0 :  40.0\n",
      "             ('France', 'Germany') :  None :   5.0 :  30.0\n",
      "               ('France', 'Italy') :  None :  50.0 : 150.0\n",
      "              ('France', 'Monaco') :  None :   0.0 :  20.0\n",
      "         ('France', 'Switzerland') :  None :  15.0 :  40.0\n",
      "                  ('France', 'UK') :  None :  50.0 :  50.0\n",
      "             ('Germany', 'Poland') :  None :  45.0 :  60.0\n",
      "        ('Netherlands', 'Germany') :  None :   0.0 :  20.0\n",
      "               ('Spain', 'France') :  None : 160.0 : 160.0\n",
      "                ('Spain', 'Italy') :  None :  50.0 :  50.0\n",
      "                 ('UK', 'Ireland') :  None :  50.0 :  50.0\n",
      "    requested_oil : Size=4\n",
      "        Key         : Lower : Body  : Upper\n",
      "            Ireland :  50.0 :  50.0 :  None\n",
      "              Italy : 100.0 : 100.0 :  None\n",
      "             Poland :  45.0 :  45.0 :  None\n",
      "        Switzerland :  15.0 :  15.0 :  None\n",
      "\n",
      "[    0.29] Applying Pyomo postprocessing actions\n",
      "[    0.29] Pyomo Finished\n",
      "# ==========================================================\n",
      "# = Solver Results                                         =\n",
      "# ==========================================================\n",
      "# ----------------------------------------------------------\n",
      "#   Problem Information\n",
      "# ----------------------------------------------------------\n",
      "Problem: \n",
      "- Name: unknown\n",
      "  Lower bound: 210.0\n",
      "  Upper bound: 210.0\n",
      "  Number of objectives: 1\n",
      "  Number of constraints: 23\n",
      "  Number of variables: 13\n",
      "  Number of nonzeros: 37\n",
      "  Sense: maximize\n",
      "# ----------------------------------------------------------\n",
      "#   Solver Information\n",
      "# ----------------------------------------------------------\n",
      "Solver: \n",
      "- Status: ok\n",
      "  Termination condition: optimal\n",
      "  Statistics: \n",
      "    Branch and bound: \n",
      "      Number of bounded subproblems: 1\n",
      "      Number of created subproblems: 1\n",
      "  Error rc: 0\n",
      "  Time: 0.059952497482299805\n",
      "# ----------------------------------------------------------\n",
      "#   Solution Information\n",
      "# ----------------------------------------------------------\n",
      "Solution: \n",
      "- number of solutions: 1\n",
      "  number of solutions displayed: 1\n",
      "- Gap: 0.0\n",
      "  Status: optimal\n",
      "  Message: None\n",
      "  Objective:\n",
      "    obj:\n",
      "      Value: 210\n",
      "  Variable:\n",
      "    flow[Belgium,Germany]:\n",
      "      Value: 40\n",
      "    flow[France,Belgium]:\n",
      "      Value: 40\n",
      "    flow[France,Germany]:\n",
      "      Value: 5\n",
      "    flow[France,Italy]:\n",
      "      Value: 50\n",
      "    flow[France,Switzerland]:\n",
      "      Value: 15\n",
      "    flow[France,UK]:\n",
      "      Value: 50\n",
      "    flow[Germany,Poland]:\n",
      "      Value: 45\n",
      "    flow[Spain,France]:\n",
      "      Value: 160\n",
      "    flow[Spain,Italy]:\n",
      "      Value: 50\n",
      "    flow[UK,Ireland]:\n",
      "      Value: 50\n",
      "  Constraint: No values\n"
     ]
    }
   ],
   "source": [
    "!pyomo solve  olive_exp.py  olive.dat --solver=glpk --summary \n",
    "\n",
    "!type results.yml"
   ]
  },
  {
   "cell_type": "markdown",
   "metadata": {},
   "source": [
    "#### ANALYSIS OF RESULTS"
   ]
  },
  {
   "cell_type": "markdown",
   "metadata": {},
   "source": [
    "> Obtained flows"
   ]
  },
  {
   "cell_type": "code",
   "execution_count": 5,
   "metadata": {},
   "outputs": [
    {
     "name": "stdout",
     "output_type": "stream",
     "text": [
      "flow[Belgium,Germany] : 40\n",
      "flow[France,Belgium] : 40\n",
      "flow[France,Germany] : 5\n",
      "flow[France,Italy] : 50\n",
      "flow[France,Switzerland] : 15\n",
      "flow[France,UK] : 50\n",
      "flow[Germany,Poland] : 45\n",
      "flow[Spain,France] : 160\n",
      "flow[Spain,Italy] : 50\n",
      "flow[UK,Ireland] : 50\n"
     ]
    }
   ],
   "source": [
    "import yaml\n",
    "with open('results.yml') as f:\n",
    "    doc = yaml.load(f,Loader=yaml.FullLoader)\n",
    "    l1 = doc[\"Solution\"][1][\"Variable\"]\n",
    "    l1 = list(l1.items())\n",
    "    \n",
    "for i in l1:\n",
    "    print(i[0],':',i[1][\"Value\"])"
   ]
  },
  {
   "cell_type": "markdown",
   "metadata": {},
   "source": [
    "| Route | Max Flow solution | Maximum Allowed\n",
    "| --- | --- | --- |\n",
    "| Spain -> France | 160 | 160 |\n",
    "| Spain -> Italy | 50 | 50 |\n",
    "| France -> Belgium | 40 | 40 |\n",
    "| France -> Germany | 5 | 30 |\n",
    "| France -> Italy | 50 | 150 |\n",
    "| France -> Switzerland | 15 | 40 |\n",
    "| France -> UK | 50 | 50 |\n",
    "| Belgium -> Germany | 40 | 40 |\n",
    "| Germany -> Poland | 45 | 60 |\n",
    "| UK -> Ireland | 50 | 50 |\n"
   ]
  },
  {
   "cell_type": "markdown",
   "metadata": {},
   "source": [
    "As we can see in the previous table:\n",
    "\n",
    "- 160 tons will pass from Spain to France\n",
    "- 50 tons will pass from Spain to Italy\n",
    "- 40 tons will pass from France to Belgium\n",
    "- 5 tons will pass from France to Germany\n",
    "- 50 tons will pass from France to Italy\n",
    "- 15 tons will pass from France to Switzerland\n",
    "- 50 tons will pass from France to UK\n",
    "- 40 tons will pass from Belgium to Germany\n",
    "- 45 tons will pass from Germany to Poland\n",
    "- 50 tons will pass from UK to Ireland"
   ]
  },
  {
   "cell_type": "markdown",
   "metadata": {},
   "source": [
    "## 2. Non-linear problem"
   ]
  },
  {
   "cell_type": "markdown",
   "metadata": {},
   "source": [
    "In regional water planning, sources emitting pollutants might be required to\n",
    "remove waste from the water system. Let $x_{j}$ be the **kg** of Biological Oxygen Demand (an often-used measure of pollution) to be removed at source *j*.\n",
    "\n",
    "One model might be to **minimize** total costs to the region to meet specified pollution standards, 10 and 15 for the water quality points:\n",
    "\n",
    "\n",
    "\n",
    "$$\n",
    "\\text{Minimize} \\sum_{j=1}^{n} f_j(x_j)\n",
    "$$\n",
    "\n",
    "\n",
    "subject to a series of **constraints** described below:\n",
    "\n"
   ]
  },
  {
   "cell_type": "markdown",
   "metadata": {},
   "source": [
    "!['water'](img/water.jpg)"
   ]
  },
  {
   "cell_type": "markdown",
   "metadata": {},
   "source": [
    "### MODEL FORMULATION\n",
    "\n",
    "\n",
    "#### SETS\n",
    "\n",
    "- I = Water quality points, responsible of measuring pollution. Water system has 2 quality points which do the function of sensors.\n",
    "- J = Source nodes at which pollution is removed. Water system has 3 nodes.\n",
    "\n",
    "\n",
    "#### PARAMETERS\n",
    "\n",
    "\n",
    "\n",
    "- $b_i$ = Minimum desired improvement in water quality at point *$i\\in I$* in the\n",
    "system.\n",
    "- $a_{ij}$ = Quality response, at point *$i\\in I$* in the water system, caused by removing\n",
    "one kilogram of Biological Oxygen Demand at source *$j\\in J$*.\n",
    "- $u_j$ = Maximum kilograms of Biological Oxygen Demand that can be\n",
    "removed at source *$j\\in J$*.\n",
    "\n",
    "\n",
    "#### VARIABLES\n",
    " - $x_{j}$,  *$j\\in J$*: Quantity of Biological Oxygen Demand to be removed at node *j*\n",
    "\n",
    "\n",
    "#### OBJECTIVE FUNCTION\n",
    "\n",
    "- $f_j$ $(x_j)$ = Cost of removing $x_j$ kilograms of Biological Oxygen Demand at\n",
    "source *$j\\in J$*,\n",
    "\n",
    "$$\n",
    "\\text{Minimize} \\sum_{j=1}^{n} f_j(x_j)\n",
    "$$\n",
    "\n",
    "\n",
    "\n",
    "Where $f_j (x_j)$ and coefficients c,d and e have been defined as:\n",
    "\n",
    "\n",
    "\n",
    "$$ f_j (x_j) = c\\cdot x_{j}^{2} + d\\cdot x_{j} + e$$\n",
    "\n",
    "\n",
    "#### CONSTRAINTS\n",
    "\n",
    "\n",
    "- Quality response multiplied by quantity of polution (in kg) must be higher than minimum desired improvement\n",
    "  \n",
    "  $$\\sum_{j=1}^{n}  a_{ij} x_j ≥ b_i \\quad i\\in I$$\n",
    "\n",
    "- Quantity of removed pollution (in kg) must be lower than maximum kg that can be removed at source j\n",
    " \n",
    "  $$0 ≤ x_j ≤ u_j \\quad j\\in J$$"
   ]
  },
  {
   "cell_type": "code",
   "execution_count": 6,
   "metadata": {},
   "outputs": [],
   "source": [
    "from scipy.optimize import minimize\n",
    "\n",
    "# Parameters\n",
    "n = 3  # Number of sources \n",
    "m = 2  # Number of water quality points\n",
    "\n",
    "u = [15, 15, 20]  # Maximum kilograms of BOD that can be removed at each source\n",
    "a = [[1, 2, 1], [0, 1, 2]]  # Quality response matrix: rows->(quality points) & cols->(source nodes)\n",
    "\n",
    "b = [10, 15]  # Minimum desired improvement in water quality\n",
    "\n",
    "c = [4, 8, 3]  # Quadratic coefficient for cost function\n",
    "d = [2, 1.5, 3]  # Linear coefficient for cost function\n",
    "e = [5, 3, 7]  # Constant term for cost function\n"
   ]
  },
  {
   "cell_type": "code",
   "execution_count": 7,
   "metadata": {},
   "outputs": [],
   "source": [
    "# Define the cost function for removing x_j pounds of BOD at source j\n",
    "def cost_function(x, c, d, e):\n",
    "    return c * x**2 + d * x + e"
   ]
  },
  {
   "cell_type": "code",
   "execution_count": 8,
   "metadata": {},
   "outputs": [],
   "source": [
    "# Define the objective function\n",
    "def objective_function(x, c, d, e):\n",
    "    return sum(cost_function(x[j], c[j], d[j], e[j]) for j in range(len(x)))"
   ]
  },
  {
   "cell_type": "code",
   "execution_count": 9,
   "metadata": {},
   "outputs": [],
   "source": [
    "# Define the equality constraint functions\n",
    "def equality_constraint(x, a, b):\n",
    "    return [sum(a[i][j] * x[j] for j in range(len(x))) - b[i] for i in range(len(b))]\n",
    "\n",
    "# Define the inequality constraint bounds\n",
    "constraint_bounds = [(0, u[j]) for j in range(len(u))]"
   ]
  },
  {
   "cell_type": "code",
   "execution_count": 10,
   "metadata": {},
   "outputs": [],
   "source": [
    "# Initial guess for x: initialize empty zeros vector\n",
    "initial_guess = np.zeros(len(u))"
   ]
  },
  {
   "cell_type": "code",
   "execution_count": 19,
   "metadata": {},
   "outputs": [
    {
     "name": "stdout",
     "output_type": "stream",
     "text": [
      "Optimal solution:\n",
      "[0.15, 1.56, 6.72]\n",
      "Optimal cost:\n",
      "192.87\n"
     ]
    }
   ],
   "source": [
    "#Solve the optimization problem\n",
    "result = minimize(objective_function, initial_guess, args=(c, d, e),\n",
    "                  constraints={'type': 'eq', 'fun': equality_constraint, 'args': (a, b)},\n",
    "                  bounds=constraint_bounds, method='SLSQP')\n",
    "\n",
    "# Display results\n",
    "print(\"Optimal solution:\")\n",
    "print([round(x, 2) for x in result.x])\n",
    "print(\"Optimal cost:\")\n",
    "print(round(result.fun, 2))"
   ]
  },
  {
   "cell_type": "markdown",
   "metadata": {},
   "source": [
    "### INTERPRETATION"
   ]
  },
  {
   "cell_type": "markdown",
   "metadata": {},
   "source": [
    "- At **Node 1** 0.15 kilograms of BOD are removed using the water system.\n",
    "- At **Node 2** 1.56 kilograms of BOD are removed using the water system.\n",
    "- At **Node 3** 6.72 kilograms of BOD are removed using the water system."
   ]
  },
  {
   "cell_type": "markdown",
   "metadata": {},
   "source": [
    "- Regarding the **optimal value**, we came up with a cost of 192.87€ to reduce pollution in this water system, meanwhile adhering to a minimum desired improvement in quality represented by $b_i$ for $i\\in I$, [10, 15] respectively."
   ]
  },
  {
   "cell_type": "markdown",
   "metadata": {},
   "source": [
    "# Bibliography\n",
    "\n",
    "\n"
   ]
  },
  {
   "cell_type": "markdown",
   "metadata": {},
   "source": [
    "https://oec.world/es/profile/bilateral-product/olive-oil-virgin/reporter/pol\n",
    "\n",
    "For the **Non-linear problem** we got inspired from this reference:\n",
    "\n",
    "https://web.mit.edu/15.053/www/AMP-Chapter-13.pdf\n"
   ]
  }
 ],
 "metadata": {
  "kernelspec": {
   "display_name": "Python 3",
   "language": "python",
   "name": "python3"
  },
  "language_info": {
   "codemirror_mode": {
    "name": "ipython",
    "version": 3
   },
   "file_extension": ".py",
   "mimetype": "text/x-python",
   "name": "python",
   "nbconvert_exporter": "python",
   "pygments_lexer": "ipython3",
   "version": "3.8.17"
  }
 },
 "nbformat": 4,
 "nbformat_minor": 2
}
