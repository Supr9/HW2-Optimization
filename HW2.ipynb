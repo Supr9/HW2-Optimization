{
 "cells": [
  {
   "cell_type": "markdown",
   "metadata": {},
   "source": [
    "## Names:\n",
    "\n",
    "- Mohammed Afif Chifaoui\n",
    "\n",
    "- Ricardo Vazquez Alvarez\n",
    "\n",
    "\n",
    "# Homework 2 Discrete and Non Linear Optimization.\n"
   ]
  },
  {
   "cell_type": "code",
   "execution_count": 3,
   "metadata": {},
   "outputs": [],
   "source": [
    "import pandas as pd\n",
    "import numpy as np\n",
    "from pyomo.environ import * \n",
    "import math\n",
    "import pandas\n"
   ]
  },
  {
   "cell_type": "markdown",
   "metadata": {},
   "source": []
  },
  {
   "cell_type": "markdown",
   "metadata": {},
   "source": []
  },
  {
   "cell_type": "markdown",
   "metadata": {},
   "source": [
    "We want to find the max flow between countries in order to export the amount of olive oil that each country requires.\n",
    "\n",
    "For this we can create the following variables:\n",
    "\n",
    "- C = Set of Countries (destination countries and the in between countries)\n",
    "    - (**Destinations:** Spain, Ireland, Poland, Italy, Switzerland ; **In between:** France, Monaco, UK, Belgium, Netherlands, and Germany).\n",
    "\n",
    "- P = Set of destination pairs (The connecting countries for flow)\n",
    "    \n",
    "\n",
    "- M - The set of minimum amount of olive oil required for the destination countries.\n",
    "\n",
    "\n"
   ]
  },
  {
   "cell_type": "code",
   "execution_count": 129,
   "metadata": {},
   "outputs": [
    {
     "name": "stdout",
     "output_type": "stream",
     "text": [
      "Overwriting olive.dat\n"
     ]
    }
   ],
   "source": [
    "%%writefile olive.dat\n",
    "set C := Spain Ireland Poland Italy Switzerland France Monaco UK Belgium Netherlands Germany;\n",
    "set P := (Spain, France) (France, Monaco) (France, Italy) (France, Switzerland) (France, Belgium) (France, UK) (Belgium, Netherlands) (Belgium, Germany) (France, Germany) (UK, Ireland) (Netherlands, Germany) (Germany, Poland);\n",
    "\n",
    "param origin := Spain;\n",
    "\n",
    "\n",
    "param maximum :=\n",
    "Spain France 200\n",
    "France Monaco 20\n",
    "France Italy 150\n",
    "France Switzerland 40\n",
    "France Belgium 40\n",
    "France UK 50\n",
    "Belgium Netherlands 30\n",
    "Belgium Germany 40\n",
    "France Germany 30\n",
    "UK Ireland 50\n",
    "Netherlands Germany 20\n",
    "Germany Poland 60;\n",
    "\n",
    "param needs :=\n",
    "Ireland 1\n",
    "Poland 1\n",
    "Italy 1\n",
    "Switzerland 1;\n",
    "\n"
   ]
  },
  {
   "cell_type": "code",
   "execution_count": 130,
   "metadata": {},
   "outputs": [
    {
     "name": "stdout",
     "output_type": "stream",
     "text": [
      "Overwriting olive_exp.py\n"
     ]
    }
   ],
   "source": [
    "%%writefile olive_exp.py\n",
    "from pyomo.environ import * \n",
    "\n",
    "model = AbstractModel()\n",
    "\n",
    "model.C = Set()\n",
    "\n",
    "# Initialize the Points with the cartesian product of the countries we have.\n",
    "model.P = Set(within = model.C*model.C)\n",
    "\n",
    "# Spain is the starting point\n",
    "model.origin = Param(within = model.C)\n",
    "\n",
    "\n",
    "model.maximum = Param(model.P)\n",
    "\n",
    "model.needs = Param(model.C)\n",
    "\n",
    "model.flow = Var(model.P, within = NonNegativeReals)\n",
    "\n",
    "\n",
    "# Objective Function\n",
    "\n",
    "def objective_rule(model):\n",
    "\n",
    "    obj_val = sum(model.flow[origin,dest] for origin,dest in model.P if dest =='Ireland' or dest =='Poland' or dest == 'Italy' or dest =='Switzerland')\n",
    "\n",
    "    return obj_val\n",
    "\n",
    "model.obj = Objective(rule = objective_rule, sense = maximize)\n",
    "\n",
    "\n",
    "def allowed_quantity(model, m, n):\n",
    "    return model.flow[m, n] <= model.maximum[m, n]\n",
    "\n",
    "def flow_rule(model , k):\n",
    "    # if it is a final destination - dont flow out . If it is a \n",
    "    if k =='Ireland' or k =='Poland' or k == 'Italy' or k =='Switzerland' or k ==value(model.origin):\n",
    "        return Constraint.Skip\n",
    "    \n",
    "    # the inflow from one origin to a destination MUST equal the outflow from origin to destination.\n",
    "    # calculating the inflow\n",
    "    inflow = sum(model.flow[origin,dest] for (origin,dest) in model.P if dest==k)\n",
    "    # calculating the outflow.\n",
    "    outflow = sum(model.flow[origin,dest] for (origin,dest) in model.P if origin==k)\n",
    "\n",
    "    return inflow==outflow\n",
    "\n",
    "def requested_oil(model, i):\n",
    "    if i== \"Italy\" or i== \"Switzerland\" or i== \"Ireland\" or i== \"Poland\":\n",
    "        return sum(model.flow[j, k] for (j,k) in model.P if k==i)>=model.needs[i]\n",
    "    else:\n",
    "        return Constraint.Skip\n",
    "\n",
    "\n",
    "model.flow_rule = Constraint(model.C, rule = flow_rule)\n",
    "model.allowed_quantity = Constraint(model.P, rule = allowed_quantity)\n",
    "model.requested_oil = Constraint(model.C, rule = requested_oil)\n",
    "    "
   ]
  },
  {
   "cell_type": "code",
   "execution_count": 128,
   "metadata": {},
   "outputs": [
    {
     "name": "stdout",
     "output_type": "stream",
     "text": [
      "GLPSOL: GLPK LP/MIP Solver, v4.58\n",
      "Parameter(s) specified in the command line:\n",
      " --write C:\\Users\\Ricardo\\AppData\\Local\\Temp\\tmpluw35sx2.glpk.raw --wglp C:\\Users\\Ricardo\\AppData\\Local\\Temp\\tmpas6imrkz.glpk.glp\n",
      " --cpxlp C:\\Users\\Ricardo\\AppData\\Local\\Temp\\tmpramjxtve.pyomo.lp\n",
      "Reading problem data from 'C:\\Users\\Ricardo\\AppData\\Local\\Temp\\tmpramjxtve.pyomo.lp'...\n",
      "22 rows, 12 columns, 35 non-zeros\n",
      "126 lines were read\n",
      "Writing problem data to 'C:\\Users\\Ricardo\\AppData\\Local\\Temp\\tmpas6imrkz.glpk.glp'...\n",
      "92 lines were written\n",
      "GLPK Simplex Optimizer, v4.58\n",
      "22 rows, 12 columns, 35 non-zeros\n",
      "Preprocessing...\n",
      "4 rows, 8 columns, 13 non-zeros\n",
      "Scaling...\n",
      " A: min|aij| =  1.000e+00  max|aij| =  1.000e+00  ratio =  1.000e+00\n",
      "Problem data seem to be well scaled\n",
      "Constructing initial basis...\n",
      "Size of triangular part is 4\n",
      "      0: obj =  -0.000000000e+00 inf =   4.000e+00 (2)\n",
      "      2: obj =   4.000000000e+00 inf =   0.000e+00 (0)\n",
      "*     5: obj =   2.000000000e+02 inf =   0.000e+00 (0)\n",
      "OPTIMAL LP SOLUTION FOUND\n",
      "Time used:   0.0 secs\n",
      "Memory used: 0.0 Mb (40452 bytes)\n",
      "Writing basic solution to 'C:\\Users\\Ricardo\\AppData\\Local\\Temp\\tmpluw35sx2.glpk.raw'...\n",
      "43 lines were written\n"
     ]
    },
    {
     "name": "stdout",
     "output_type": "stream",
     "text": [
      "Model unknown\n",
      "\n",
      "  Variables:\n",
      "    flow : Size=12, Index=P\n",
      "        Key                        : Lower : Value : Upper : Fixed : Stale : Domain\n",
      "            ('Belgium', 'Germany') :     0 :   9.0 :  None : False : False : NonNegativeReals\n",
      "        ('Belgium', 'Netherlands') :     0 :   0.0 :  None : False : False : NonNegativeReals\n",
      "             ('France', 'Belgium') :     0 :   9.0 :  None : False : False : NonNegativeReals\n",
      "             ('France', 'Germany') :     0 :   0.0 :  None : False : False : NonNegativeReals\n",
      "               ('France', 'Italy') :     0 : 150.0 :  None : False : False : NonNegativeReals\n",
      "              ('France', 'Monaco') :     0 :   0.0 :  None : False : False : NonNegativeReals\n",
      "         ('France', 'Switzerland') :     0 :  40.0 :  None : False : False : NonNegativeReals\n",
      "                  ('France', 'UK') :     0 :   1.0 :  None : False : False : NonNegativeReals\n",
      "             ('Germany', 'Poland') :     0 :   9.0 :  None : False : False : NonNegativeReals\n",
      "        ('Netherlands', 'Germany') :     0 :   0.0 :  None : False : False : NonNegativeReals\n",
      "               ('Spain', 'France') :     0 : 200.0 :  None : False : False : NonNegativeReals\n",
      "                 ('UK', 'Ireland') :     0 :   1.0 :  None : False : False : NonNegativeReals\n",
      "\n",
      "  Objectives:\n",
      "    obj : Size=1, Index=None, Active=True\n",
      "        Key  : Active : Value\n",
      "        None :   True : 200.0\n",
      "\n",
      "  Constraints:\n",
      "    flow_rule : Size=6\n",
      "        Key         : Lower : Body : Upper\n",
      "            Belgium :   0.0 :  0.0 :   0.0\n",
      "             France :   0.0 :  0.0 :   0.0\n",
      "            Germany :   0.0 :  0.0 :   0.0\n",
      "             Monaco :   0.0 :  0.0 :   0.0\n",
      "        Netherlands :   0.0 :  0.0 :   0.0\n",
      "                 UK :   0.0 :  0.0 :   0.0\n",
      "    allowed_quantity : Size=12\n",
      "        Key                        : Lower : Body  : Upper\n",
      "            ('Belgium', 'Germany') :  None :   9.0 :  40.0\n",
      "        ('Belgium', 'Netherlands') :  None :   0.0 :  30.0\n",
      "             ('France', 'Belgium') :  None :   9.0 :  40.0\n",
      "             ('France', 'Germany') :  None :   0.0 :  30.0\n",
      "               ('France', 'Italy') :  None : 150.0 : 150.0\n",
      "              ('France', 'Monaco') :  None :   0.0 :  20.0\n",
      "         ('France', 'Switzerland') :  None :  40.0 :  40.0\n",
      "                  ('France', 'UK') :  None :   1.0 :  50.0\n",
      "             ('Germany', 'Poland') :  None :   9.0 :  60.0\n",
      "        ('Netherlands', 'Germany') :  None :   0.0 :  20.0\n",
      "               ('Spain', 'France') :  None : 200.0 : 200.0\n",
      "                 ('UK', 'Ireland') :  None :   1.0 :  50.0\n",
      "    requested_oil : Size=4\n",
      "        Key         : Lower : Body  : Upper\n",
      "            Ireland :   1.0 :   1.0 :  None\n",
      "              Italy :   1.0 : 150.0 :  None\n",
      "             Poland :   1.0 :   9.0 :  None\n",
      "        Switzerland :   1.0 :  40.0 :  None\n"
     ]
    }
   ],
   "source": [
    "instance = model.create_instance(\"olive.dat\")\n",
    "\n",
    "# Solve the model\n",
    "# destination\n",
    "solver = SolverFactory(\"glpk\")\n",
    "solver.solve(instance, tee=True)\n",
    "\n",
    "# Print the results\n",
    "instance.display()"
   ]
  },
  {
   "cell_type": "code",
   "execution_count": 131,
   "metadata": {},
   "outputs": [
    {
     "name": "stdout",
     "output_type": "stream",
     "text": [
      "[    0.00] Setting up Pyomo environment\n",
      "[    0.00] Applying Pyomo preprocessing actions\n",
      "[    0.01] Creating model\n",
      "[    0.02] Applying solver\n",
      "[    0.15] Processing results\n",
      "    Number of solutions: 1\n",
      "    Solution Information\n",
      "      Gap: 0.0\n",
      "      Status: feasible\n",
      "      Function Value: 200.0\n",
      "    Solver results file: results.yml\n",
      "\n",
      "==========================================================\n",
      "Solution Summary\n",
      "==========================================================\n",
      "\n",
      "Model unknown\n",
      "\n",
      "  Variables:\n",
      "    flow : Size=12, Index=P\n",
      "        Key                        : Lower : Value : Upper : Fixed : Stale : Domain\n",
      "            ('Belgium', 'Germany') :     0 :   9.0 :  None : False : False : NonNegativeReals\n",
      "        ('Belgium', 'Netherlands') :     0 :   0.0 :  None : False : False : NonNegativeReals\n",
      "             ('France', 'Belgium') :     0 :   9.0 :  None : False : False : NonNegativeReals\n",
      "             ('France', 'Germany') :     0 :   0.0 :  None : False : False : NonNegativeReals\n",
      "               ('France', 'Italy') :     0 : 150.0 :  None : False : False : NonNegativeReals\n",
      "              ('France', 'Monaco') :     0 :   0.0 :  None : False : False : NonNegativeReals\n",
      "         ('France', 'Switzerland') :     0 :  40.0 :  None : False : False : NonNegativeReals\n",
      "                  ('France', 'UK') :     0 :   1.0 :  None : False : False : NonNegativeReals\n",
      "             ('Germany', 'Poland') :     0 :   9.0 :  None : False : False : NonNegativeReals\n",
      "        ('Netherlands', 'Germany') :     0 :   0.0 :  None : False : False : NonNegativeReals\n",
      "               ('Spain', 'France') :     0 : 200.0 :  None : False : False : NonNegativeReals\n",
      "                 ('UK', 'Ireland') :     0 :   1.0 :  None : False : False : NonNegativeReals\n",
      "\n",
      "  Objectives:\n",
      "    obj : Size=1, Index=None, Active=True\n",
      "        Key  : Active : Value\n",
      "        None :   True : 200.0\n",
      "\n",
      "  Constraints:\n",
      "    flow_rule : Size=6\n",
      "        Key         : Lower : Body : Upper\n",
      "            Belgium :   0.0 :  0.0 :   0.0\n",
      "             France :   0.0 :  0.0 :   0.0\n",
      "            Germany :   0.0 :  0.0 :   0.0\n",
      "             Monaco :   0.0 :  0.0 :   0.0\n",
      "        Netherlands :   0.0 :  0.0 :   0.0\n",
      "                 UK :   0.0 :  0.0 :   0.0\n",
      "    allowed_quantity : Size=12\n",
      "        Key                        : Lower : Body  : Upper\n",
      "            ('Belgium', 'Germany') :  None :   9.0 :  40.0\n",
      "        ('Belgium', 'Netherlands') :  None :   0.0 :  30.0\n",
      "             ('France', 'Belgium') :  None :   9.0 :  40.0\n",
      "             ('France', 'Germany') :  None :   0.0 :  30.0\n",
      "               ('France', 'Italy') :  None : 150.0 : 150.0\n",
      "              ('France', 'Monaco') :  None :   0.0 :  20.0\n",
      "         ('France', 'Switzerland') :  None :  40.0 :  40.0\n",
      "                  ('France', 'UK') :  None :   1.0 :  50.0\n",
      "             ('Germany', 'Poland') :  None :   9.0 :  60.0\n",
      "        ('Netherlands', 'Germany') :  None :   0.0 :  20.0\n",
      "               ('Spain', 'France') :  None : 200.0 : 200.0\n",
      "                 ('UK', 'Ireland') :  None :   1.0 :  50.0\n",
      "    requested_oil : Size=4\n",
      "        Key         : Lower : Body  : Upper\n",
      "            Ireland :   1.0 :   1.0 :  None\n",
      "              Italy :   1.0 : 150.0 :  None\n",
      "             Poland :   1.0 :   9.0 :  None\n",
      "        Switzerland :   1.0 :  40.0 :  None\n",
      "\n",
      "[    0.15] Applying Pyomo postprocessing actions\n",
      "[    0.15] Pyomo Finished\n",
      "# ==========================================================\n",
      "# = Solver Results                                         =\n",
      "# ==========================================================\n",
      "# ----------------------------------------------------------\n",
      "#   Problem Information\n",
      "# ----------------------------------------------------------\n",
      "Problem: \n",
      "- Name: unknown\n",
      "  Lower bound: 200.0\n",
      "  Upper bound: 200.0\n",
      "  Number of objectives: 1\n",
      "  Number of constraints: 22\n",
      "  Number of variables: 12\n",
      "  Number of nonzeros: 35\n",
      "  Sense: maximize\n",
      "# ----------------------------------------------------------\n",
      "#   Solver Information\n",
      "# ----------------------------------------------------------\n",
      "Solver: \n",
      "- Status: ok\n",
      "  Termination condition: optimal\n",
      "  Statistics: \n",
      "    Branch and bound: \n",
      "      Number of bounded subproblems: 0\n",
      "      Number of created subproblems: 0\n",
      "  Error rc: 0\n",
      "  Time: 0.06300163269042969\n",
      "# ----------------------------------------------------------\n",
      "#   Solution Information\n",
      "# ----------------------------------------------------------\n",
      "Solution: \n",
      "- number of solutions: 1\n",
      "  number of solutions displayed: 1\n",
      "- Gap: 0.0\n",
      "  Status: feasible\n",
      "  Message: None\n",
      "  Objective:\n",
      "    obj:\n",
      "      Value: 200\n",
      "  Variable:\n",
      "    flow[Belgium,Germany]:\n",
      "      Value: 9\n",
      "    flow[France,Belgium]:\n",
      "      Value: 9\n",
      "    flow[France,Italy]:\n",
      "      Value: 150\n",
      "    flow[France,Switzerland]:\n",
      "      Value: 40\n",
      "    flow[France,UK]:\n",
      "      Value: 1\n",
      "    flow[Germany,Poland]:\n",
      "      Value: 9\n",
      "    flow[Spain,France]:\n",
      "      Value: 200\n",
      "    flow[UK,Ireland]:\n",
      "      Value: 1\n",
      "  Constraint: No values\n"
     ]
    }
   ],
   "source": [
    "!pyomo solve  olive_exp.py  olive.dat --solver=glpk --summary \n",
    "\n",
    "!type results.yml"
   ]
  },
  {
   "cell_type": "markdown",
   "metadata": {},
   "source": [
    "# Work"
   ]
  },
  {
   "cell_type": "code",
   "execution_count": null,
   "metadata": {},
   "outputs": [],
   "source": []
  },
  {
   "cell_type": "code",
   "execution_count": null,
   "metadata": {},
   "outputs": [],
   "source": []
  },
  {
   "cell_type": "code",
   "execution_count": 26,
   "metadata": {},
   "outputs": [
    {
     "name": "stdout",
     "output_type": "stream",
     "text": [
      "Overwriting flow.py\n"
     ]
    }
   ],
   "source": [
    "# Objective Function\n",
    "def objective_rule(model):\n",
    "\n",
    "    obj_val = sum(model.flow[origin,dest] for origin,dest in model.T if dest =='Ireland' or dest =='Poland' or dest == 'Italy' or dest =='Switzerland')\n",
    "\n",
    "    return obj_val\n",
    "\n",
    "model.obj = Objective(rule = objective_rule, sense = maximize)\n",
    "    "
   ]
  },
  {
   "cell_type": "markdown",
   "metadata": {},
   "source": [
    "## Constraints"
   ]
  },
  {
   "cell_type": "code",
   "execution_count": null,
   "metadata": {},
   "outputs": [],
   "source": [
    " # Constraint 1: do not exceed the maximum quantity of olive allowed in a connection\n",
    "\n",
    "def allowed_quantity(model, m, n):\n",
    " return model.flow[m, n] <= model.maximum[m, n]"
   ]
  },
  {
   "cell_type": "code",
   "execution_count": null,
   "metadata": {},
   "outputs": [],
   "source": [
    "def flow_rule(model , k):\n",
    "    # if it is a final destination - dont flow out . If it is a \n",
    "    if k =='Ireland' or k =='Poland' or k == 'Italy' or k =='Switzerland' or k ==value(model.origin):\n",
    "        return Constraint.Skip\n",
    "    \n",
    "    # the inflow from one origin to a destination MUST equal the outflow from origin to destination.\n",
    "    # calculating the inflow\n",
    "    inflow = sum(model.flow[origin,dest] for (origin,dest) in model.P if dest==k)\n",
    "    # calculating the outflow.\n",
    "    outflow = sum(model.flow[origin,dest] for (origin,dest) in model.P if origin==k)\n",
    "\n",
    "    return inflow==outflow\n",
    "        "
   ]
  },
  {
   "cell_type": "code",
   "execution_count": null,
   "metadata": {},
   "outputs": [],
   "source": [
    "# Constraint 3: ensure that each final destination is receiving requested amount of oil\n",
    "\n",
    "def requested_oil(model, i):\n",
    "    if i== \"Italy\" or i== \"Switzerland\" or i== \"Ireland\" or i== \"Poland\":\n",
    "        return sum(model.flow[j, k] for (j,k) in model.P if k==i)>=model.needs[i]\n",
    "    else:\n",
    "        return Constraint.Skip"
   ]
  },
  {
   "cell_type": "code",
   "execution_count": null,
   "metadata": {},
   "outputs": [],
   "source": [
    "model.flow_rule = Constraint(model.C, rule = flow_rule)\n",
    "model.allowed_quantity = Constraint(model.P, rule = allowed_quantity)\n",
    "model.requesedt_oil = Constraint(model.C, rule = requested_oil)\n"
   ]
  },
  {
   "cell_type": "markdown",
   "metadata": {},
   "source": []
  },
  {
   "cell_type": "markdown",
   "metadata": {},
   "source": [
    "# Bibliography\n",
    "\n",
    "\n"
   ]
  },
  {
   "cell_type": "markdown",
   "metadata": {},
   "source": [
    "https://oec.world/es/profile/bilateral-product/olive-oil-virgin/reporter/pol"
   ]
  }
 ],
 "metadata": {
  "kernelspec": {
   "display_name": "Python 3",
   "language": "python",
   "name": "python3"
  },
  "language_info": {
   "codemirror_mode": {
    "name": "ipython",
    "version": 3
   },
   "file_extension": ".py",
   "mimetype": "text/x-python",
   "name": "python",
   "nbconvert_exporter": "python",
   "pygments_lexer": "ipython3",
   "version": "3.10.7"
  }
 },
 "nbformat": 4,
 "nbformat_minor": 2
}
