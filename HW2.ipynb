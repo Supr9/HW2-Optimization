{
 "cells": [
  {
   "cell_type": "markdown",
   "metadata": {},
   "source": [
    "## Names:\n",
    "\n",
    "- Mohammed Afif Chifaoui\n",
    "\n",
    "- Ricardo Vazquez Alvarez\n",
    "\n",
    "\n",
    "# Homework 2 Discrete and Non Linear Optimization.\n"
   ]
  },
  {
   "cell_type": "code",
   "execution_count": 3,
   "metadata": {},
   "outputs": [],
   "source": [
    "import pandas as pd\n",
    "import numpy as np\n",
    "from pyomo.environ import * \n",
    "import math\n",
    "import pandas\n"
   ]
  },
  {
   "cell_type": "markdown",
   "metadata": {},
   "source": []
  },
  {
   "cell_type": "markdown",
   "metadata": {},
   "source": []
  },
  {
   "cell_type": "markdown",
   "metadata": {},
   "source": [
    "We want to find the max flow between countries in order to export the amount of olive oil that each country requires.\n",
    "\n",
    "For this we can create the following variables:\n",
    "\n",
    "- C = Set of Countries (destination countries and the in between countries)\n",
    "    - (**Destinations:** Spain, Ireland, Poland, Italy, Switzerland ; **In between:** France, Monaco, UK, Belgium, Netherlands, and Germany).\n",
    "\n",
    "- P = Set of destination pairs (The connecting countries for flow)\n",
    "    \n",
    "\n",
    "- M - The set of minimum amount of olive oil required for the destination countries.\n",
    "\n",
    "\n"
   ]
  },
  {
   "cell_type": "code",
   "execution_count": 28,
   "metadata": {},
   "outputs": [
    {
     "name": "stdout",
     "output_type": "stream",
     "text": [
      "Writing olive.dat\n"
     ]
    }
   ],
   "source": [
    "%%writefile olive.dat\n",
    "\n",
    "\n",
    "Set C := Spain, Ireland, Poland, Italy, Switzerland, France, Monaco, UK, Belgium, Netherlands, Germany;\n",
    "Set P := (Spain, France) (France, Monaco) (France, Italy) (France, Switzerland) (France, Belgium) (France, UK) (Belgium, Netherlands) (Belgium, Germany)  (France, Germany) (UK, Ireland) (Netherlands, Germany) (Germany Poland)\n",
    "\n",
    "# destination: is the importer country of olive oil assuming origin is producer country, Spain\n",
    "# maximum: allowed quantity of olive oil to pass by a country\n",
    "# needs: quantity of oil(in tons.) each country requests\n",
    "\n",
    "\n",
    "\n",
    "param origin := Spain;\n",
    "param destination := Ireland, Poland, Italy, Switzerland;\n",
    "\n",
    "param maximum := \n",
    "Spain, France 200\n",
    "France, Monaco 20\n",
    "France, Italy 150\n",
    "France, Switzerland 40\n",
    "France, Belgium 40\n",
    "France, UK 50\n",
    "Belgium, Netherlands 30\n",
    "Belgium, Germany 40\n",
    "France, Germany 30\n",
    "UK, Ireland 50\n",
    "Netherlands, Germany 20\n",
    "Germany, Poland 60\n",
    "\n",
    "param needs := \n",
    "Ireland 40 # value\n",
    "Poland 20\n",
    "Italy 137\n",
    "Switzerland 50\n"
   ]
  },
  {
   "cell_type": "code",
   "execution_count": 43,
   "metadata": {},
   "outputs": [
    {
     "name": "stdout",
     "output_type": "stream",
     "text": [
      "Overwriting olive_exp.py\n"
     ]
    }
   ],
   "source": [
    "%%writefile olive_exp.py\n",
    "from pyomo.environ import * \n",
    "\n",
    "model = AbstractModel()\n",
    "\n",
    "model.C = Set()\n",
    "\n",
    "# Initialize the Points with the cartesian product of the countries we have.\n",
    "model.P = Set(within = model.C*model.C)\n",
    "\n",
    "# Spain is the starting point\n",
    "model.origin = Param(within = model.C)\n",
    "\n",
    "\n",
    "model.maximum = Param(model.P, mutable=True)\n",
    "\n",
    "model.needs = Param(model.C, mutable=True)\n",
    "\n",
    "model.flow = Var(model.P, within = NonNegativeReals)\n",
    "\n",
    "\n",
    "# Objective Function\n",
    "\n",
    "def objective_rule(model):\n",
    "\n",
    "    obj_val = sum(model.flow[origin,dest] for origin,dest in model.T if dest =='Ireland' or dest =='Poland' or dest == 'Italy' or dest =='Switzerland')\n",
    "\n",
    "    return obj_val\n",
    "\n",
    "model.obj = Objective(rule = objective_rule, sense = maximize)\n",
    "\n",
    "\n",
    "def allowed_quantity(model, m, n):\n",
    "    return model.flow[m, n] <= model.maximum[m, n]\n",
    "\n",
    "def flow_rule(model , k):\n",
    "    # if it is a final destination - dont flow out . If it is a \n",
    "    if k =='Ireland' or k =='Poland' or k == 'Italy' or k =='Switzerland' or k ==value(model.origin):\n",
    "        return Constraint.Skip\n",
    "    \n",
    "    # the inflow from one origin to a destination MUST equal the outflow from origin to destination.\n",
    "    # calculating the inflow\n",
    "    inflow = sum(model.flow[origin,dest] for (origin,dest) in model.P if dest==k)\n",
    "    # calculating the outflow.\n",
    "    outflow = sum(model.flow[origin,dest] for (origin,dest) in model.P if origin==k)\n",
    "\n",
    "    return inflow==outflow\n",
    "\n",
    "def requested_oil(model, i):\n",
    "    if i== \"Italy\" or i== \"Switzerland\" or i== \"Ireland\" or i== \"Poland\":\n",
    "        return sum(model.flow[j, k] for (j,k) in model.P if k==i)>=model.needs[i]\n",
    "    else:\n",
    "        return Constraint.Skip\n",
    "\n",
    "\n",
    "model.flow_rule = Constraint(model.C, rule = flow_rule)\n",
    "model.allowed_quantity = Constraint(model.P, rule = allowed_quantity)\n",
    "model.requesedt_oil = Constraint(model.C, rule = requested_oil)\n",
    "    "
   ]
  },
  {
   "cell_type": "code",
   "execution_count": 44,
   "metadata": {},
   "outputs": [
    {
     "name": "stdout",
     "output_type": "stream",
     "text": [
      "[    0.00] Setting up Pyomo environment\n",
      "[    0.00] Applying Pyomo preprocessing actions\n",
      "[    0.01] Creating model\n",
      "[    0.02] Pyomo Finished\n",
      "ERROR: Unexpected exception while running model: Syntax error at token 'WORD'\n",
      "with value 'Set' (line 3, column 1)\n"
     ]
    },
    {
     "name": "stderr",
     "output_type": "stream",
     "text": [
      "The system cannot find the file specified.\n"
     ]
    }
   ],
   "source": [
    "!pyomo solve  olive_exp.py  olive.dat --solver=glpk --summary \n",
    "\n",
    "!type results.yml"
   ]
  },
  {
   "cell_type": "code",
   "execution_count": 26,
   "metadata": {},
   "outputs": [
    {
     "name": "stdout",
     "output_type": "stream",
     "text": [
      "Overwriting flow.py\n"
     ]
    }
   ],
   "source": [
    "\n",
    "\n",
    "# Objective Function\n",
    "\n",
    "def objective_rule(model):\n",
    "\n",
    "    obj_val = sum(model.flow[origin,dest] for origin,dest in model.T if dest =='Ireland' or dest =='Poland' or dest == 'Italy' or dest =='Switzerland')\n",
    "\n",
    "    return obj_val\n",
    "\n",
    "model.obj = Objective(rule = objective_rule, sense = maximize)\n",
    "    "
   ]
  },
  {
   "cell_type": "markdown",
   "metadata": {},
   "source": [
    "## Constraints"
   ]
  },
  {
   "cell_type": "code",
   "execution_count": null,
   "metadata": {},
   "outputs": [],
   "source": [
    "# # Constraint 1: do not exceed the maximum quantity of olive allowed in a connection\n",
    "\n",
    "def allowed_quantity(model, m, n):\n",
    " return model.flow[m, n] <= model.maximum[m, n]"
   ]
  },
  {
   "cell_type": "code",
   "execution_count": null,
   "metadata": {},
   "outputs": [],
   "source": [
    "def flow_rule(model , k):\n",
    "    # if it is a final destination - dont flow out . If it is a \n",
    "    if k =='Ireland' or k =='Poland' or k == 'Italy' or k =='Switzerland' or k ==value(model.origin):\n",
    "        return Constraint.Skip\n",
    "    \n",
    "    # the inflow from one origin to a destination MUST equal the outflow from origin to destination.\n",
    "    # calculating the inflow\n",
    "    inflow = sum(model.flow[origin,dest] for (origin,dest) in model.P if dest==k)\n",
    "    # calculating the outflow.\n",
    "    outflow = sum(model.flow[origin,dest] for (origin,dest) in model.P if origin==k)\n",
    "\n",
    "    return inflow==outflow\n",
    "        "
   ]
  },
  {
   "cell_type": "code",
   "execution_count": null,
   "metadata": {},
   "outputs": [],
   "source": [
    "# Constraint 3: ensure that each final destination is receiving requested amount of oil\n",
    "\n",
    "def requested_oil(model, i):\n",
    "    if i== \"Italy\" or i== \"Switzerland\" or i== \"Ireland\" or i== \"Poland\":\n",
    "        return sum(model.flow[j, k] for (j,k) in model.P if k==i)>=model.needs[i]\n",
    "    else:\n",
    "        return Constraint.Skip"
   ]
  },
  {
   "cell_type": "code",
   "execution_count": null,
   "metadata": {},
   "outputs": [],
   "source": []
  },
  {
   "cell_type": "code",
   "execution_count": null,
   "metadata": {},
   "outputs": [],
   "source": [
    "model.flow_rule = Constraint(model.C, rule = flow_rule)\n",
    "model.allowed_quantity = Constraint(model.P, rule = allowed_quantity)\n",
    "model.requesedt_oil = Constraint(model.C, rule = requested_oil)\n"
   ]
  },
  {
   "cell_type": "markdown",
   "metadata": {},
   "source": []
  },
  {
   "cell_type": "markdown",
   "metadata": {},
   "source": [
    "# Bibliography\n",
    "\n",
    "\n"
   ]
  },
  {
   "cell_type": "markdown",
   "metadata": {},
   "source": [
    "https://oec.world/es/profile/bilateral-product/olive-oil-virgin/reporter/pol"
   ]
  }
 ],
 "metadata": {
  "kernelspec": {
   "display_name": "Python 3",
   "language": "python",
   "name": "python3"
  },
  "language_info": {
   "codemirror_mode": {
    "name": "ipython",
    "version": 3
   },
   "file_extension": ".py",
   "mimetype": "text/x-python",
   "name": "python",
   "nbconvert_exporter": "python",
   "pygments_lexer": "ipython3",
   "version": "3.10.7"
  }
 },
 "nbformat": 4,
 "nbformat_minor": 2
}
