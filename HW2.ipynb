{
 "cells": [
  {
   "cell_type": "markdown",
   "metadata": {},
   "source": [
    "## Names:\n",
    "\n",
    "- Mohammed Afif Chifaoui\n",
    "\n",
    "- Ricardo Vazquez Alvarez\n",
    "\n",
    "\n",
    "# Homework 2 Discrete and Non Linear Optimization.\n"
   ]
  },
  {
   "cell_type": "code",
   "execution_count": 3,
   "metadata": {},
   "outputs": [],
   "source": [
    "import pandas as pd\n",
    "import numpy as np\n",
    "from pyomo.environ import * \n",
    "import math\n",
    "import pandas\n"
   ]
  },
  {
   "cell_type": "markdown",
   "metadata": {},
   "source": []
  },
  {
   "cell_type": "markdown",
   "metadata": {},
   "source": []
  },
  {
   "cell_type": "markdown",
   "metadata": {},
   "source": [
    "We want to find the max flow between countries in order to export the amount of olive oil that each country requires.\n",
    "\n",
    "For this we can create the following variables:\n",
    "\n",
    "- C = Set of Countries (destination countries and the in between countries)\n",
    "    - (**Destinations:** Spain, Ireland, Poland, Italy, Switzerland ; **In between:** France, Monaco, UK, Belgium, Netherlands, and Germany).\n",
    "\n",
    "- P = Set of destination pairs (The connecting countries for flow)\n",
    "    \n",
    "\n",
    "- M - The set of minimum amount of olive oil required for the destination countries.\n",
    "\n",
    "\n"
   ]
  },
  {
   "cell_type": "code",
   "execution_count": 79,
   "metadata": {},
   "outputs": [
    {
     "name": "stdout",
     "output_type": "stream",
     "text": [
      "Overwriting olive.dat\n"
     ]
    }
   ],
   "source": [
    "%%writefile olive.dat\n",
    "Set C := Spain, Ireland, Poland, Italy, Switzerland, France, Monaco, UK, Belgium, Netherlands, Germany;\n",
    "Set P := (Spain, France) (France, Monaco) (France, Italy) (France, Switzerland) (France, Belgium) (France, UK) (Belgium, Netherlands) (Belgium, Germany) (France, Germany) (UK, Ireland) (Netherlands, Germany) (Germany Poland);\n",
    "\n",
    "param origin := Spain;\n",
    "param destination := Ireland, Poland, Italy, Switzerland;\n",
    "\n",
    "param maximum :=\n",
    "Spain, France 200,\n",
    "France, Monaco 20,\n",
    "France, Italy 150,\n",
    "France, Switzerland 40,\n",
    "France, Belgium 40,\n",
    "France, UK 50,\n",
    "Belgium, Netherlands 30,\n",
    "Belgium, Germany 40,\n",
    "France, Germany 30,\n",
    "UK, Ireland 50,\n",
    "Netherlands, Germany 20,\n",
    "Germany, Poland 60;\n",
    "\n",
    "param needs :=\n",
    "Ireland 40,\n",
    "Poland 20,\n",
    "Italy 137,\n",
    "Switzerland 50;\n"
   ]
  },
  {
   "cell_type": "code",
   "execution_count": 82,
   "metadata": {},
   "outputs": [
    {
     "ename": "OSError",
     "evalue": "Syntax error at token 'WORD' with value 'Set' (line 5, column 0)",
     "output_type": "error",
     "traceback": [
      "\u001b[1;31m---------------------------------------------------------------------------\u001b[0m",
      "\u001b[1;31mOSError\u001b[0m                                   Traceback (most recent call last)",
      "\u001b[1;32mc:\\Users\\Ricardo\\Desktop\\HW2-Optimization\\HW2.ipynb Cell 7\u001b[0m line \u001b[0;36m6\n\u001b[0;32m     <a href='vscode-notebook-cell:/c%3A/Users/Ricardo/Desktop/HW2-Optimization/HW2.ipynb#X11sZmlsZQ%3D%3D?line=56'>57</a>\u001b[0m model\u001b[39m.\u001b[39mallowed_quantity \u001b[39m=\u001b[39m Constraint(model\u001b[39m.\u001b[39mP, rule \u001b[39m=\u001b[39m allowed_quantity)\n\u001b[0;32m     <a href='vscode-notebook-cell:/c%3A/Users/Ricardo/Desktop/HW2-Optimization/HW2.ipynb#X11sZmlsZQ%3D%3D?line=57'>58</a>\u001b[0m model\u001b[39m.\u001b[39mrequested_oil \u001b[39m=\u001b[39m Constraint(model\u001b[39m.\u001b[39mC, rule \u001b[39m=\u001b[39m requested_oil)\n\u001b[1;32m---> <a href='vscode-notebook-cell:/c%3A/Users/Ricardo/Desktop/HW2-Optimization/HW2.ipynb#X11sZmlsZQ%3D%3D?line=59'>60</a>\u001b[0m instance \u001b[39m=\u001b[39m model\u001b[39m.\u001b[39;49mcreate_instance(\u001b[39m\"\u001b[39;49m\u001b[39molive.dat\u001b[39;49m\u001b[39m\"\u001b[39;49m)\n\u001b[0;32m     <a href='vscode-notebook-cell:/c%3A/Users/Ricardo/Desktop/HW2-Optimization/HW2.ipynb#X11sZmlsZQ%3D%3D?line=61'>62</a>\u001b[0m \u001b[39m# Solve the model\u001b[39;00m\n\u001b[0;32m     <a href='vscode-notebook-cell:/c%3A/Users/Ricardo/Desktop/HW2-Optimization/HW2.ipynb#X11sZmlsZQ%3D%3D?line=62'>63</a>\u001b[0m solver \u001b[39m=\u001b[39m SolverFactory(\u001b[39m\"\u001b[39m\u001b[39mglpk\u001b[39m\u001b[39m\"\u001b[39m)\n",
      "File \u001b[1;32mc:\\Users\\Ricardo\\AppData\\Local\\Programs\\Python\\Python310\\lib\\site-packages\\pyomo\\core\\base\\PyomoModel.py:734\u001b[0m, in \u001b[0;36mModel.create_instance\u001b[1;34m(self, filename, data, name, namespace, namespaces, profile_memory, report_timing, **kwds)\u001b[0m\n\u001b[0;32m    731\u001b[0m \u001b[39mif\u001b[39;00m \u001b[39mNone\u001b[39;00m \u001b[39mnot\u001b[39;00m \u001b[39min\u001b[39;00m _namespaces:\n\u001b[0;32m    732\u001b[0m     _namespaces\u001b[39m.\u001b[39mappend(\u001b[39mNone\u001b[39;00m)\n\u001b[1;32m--> 734\u001b[0m instance\u001b[39m.\u001b[39;49mload(data, namespaces\u001b[39m=\u001b[39;49m_namespaces, profile_memory\u001b[39m=\u001b[39;49mprofile_memory)\n\u001b[0;32m    736\u001b[0m \u001b[39m#\u001b[39;00m\n\u001b[0;32m    737\u001b[0m \u001b[39m# Indicate that the model is concrete/constructed\u001b[39;00m\n\u001b[0;32m    738\u001b[0m \u001b[39m#\u001b[39;00m\n\u001b[0;32m    739\u001b[0m instance\u001b[39m.\u001b[39m_constructed \u001b[39m=\u001b[39m \u001b[39mTrue\u001b[39;00m\n",
      "File \u001b[1;32mc:\\Users\\Ricardo\\AppData\\Local\\Programs\\Python\\Python310\\lib\\site-packages\\pyomo\\core\\base\\PyomoModel.py:763\u001b[0m, in \u001b[0;36mModel.load\u001b[1;34m(self, arg, namespaces, profile_memory)\u001b[0m\n\u001b[0;32m    759\u001b[0m \u001b[39m\u001b[39m\u001b[39m\"\"\"\u001b[39;00m\n\u001b[0;32m    760\u001b[0m \u001b[39mLoad the model with data from a file, dictionary or DataPortal object.\u001b[39;00m\n\u001b[0;32m    761\u001b[0m \u001b[39m\"\"\"\u001b[39;00m\n\u001b[0;32m    762\u001b[0m \u001b[39mif\u001b[39;00m arg \u001b[39mis\u001b[39;00m \u001b[39mNone\u001b[39;00m \u001b[39mor\u001b[39;00m \u001b[39misinstance\u001b[39m(arg, \u001b[39mstr\u001b[39m):\n\u001b[1;32m--> 763\u001b[0m     dp \u001b[39m=\u001b[39m DataPortal(filename\u001b[39m=\u001b[39;49marg, model\u001b[39m=\u001b[39;49m\u001b[39mself\u001b[39;49m)\n\u001b[0;32m    764\u001b[0m \u001b[39melif\u001b[39;00m \u001b[39mtype\u001b[39m(arg) \u001b[39mis\u001b[39;00m DataPortal:\n\u001b[0;32m    765\u001b[0m     dp \u001b[39m=\u001b[39m arg\n",
      "File \u001b[1;32mc:\\Users\\Ricardo\\AppData\\Local\\Programs\\Python\\Python310\\lib\\site-packages\\pyomo\\dataportal\\DataPortal.py:71\u001b[0m, in \u001b[0;36mDataPortal.__init__\u001b[1;34m(self, *args, **kwds)\u001b[0m\n\u001b[0;32m     69\u001b[0m     filename \u001b[39m=\u001b[39m kwds\u001b[39m.\u001b[39mpop(\u001b[39m'\u001b[39m\u001b[39mfilename\u001b[39m\u001b[39m'\u001b[39m)\n\u001b[0;32m     70\u001b[0m     \u001b[39mself\u001b[39m\u001b[39m.\u001b[39mconnect(filename\u001b[39m=\u001b[39mfilename, \u001b[39m*\u001b[39m\u001b[39m*\u001b[39mkwds)\n\u001b[1;32m---> 71\u001b[0m     \u001b[39mself\u001b[39;49m\u001b[39m.\u001b[39;49mload()\n\u001b[0;32m     72\u001b[0m     \u001b[39mself\u001b[39m\u001b[39m.\u001b[39mdisconnect()\n\u001b[0;32m     73\u001b[0m \u001b[39m# Or load data from a dictionary\u001b[39;00m\n",
      "File \u001b[1;32mc:\\Users\\Ricardo\\AppData\\Local\\Programs\\Python\\Python310\\lib\\site-packages\\pyomo\\dataportal\\DataPortal.py:168\u001b[0m, in \u001b[0;36mDataPortal.load\u001b[1;34m(self, **kwds)\u001b[0m\n\u001b[0;32m    166\u001b[0m     logger\u001b[39m.\u001b[39mdebug(\u001b[39m\"\u001b[39m\u001b[39mProcessing data ...\u001b[39m\u001b[39m\"\u001b[39m)\n\u001b[0;32m    167\u001b[0m \u001b[39mself\u001b[39m\u001b[39m.\u001b[39m_data_manager\u001b[39m.\u001b[39mread()\n\u001b[1;32m--> 168\u001b[0m status \u001b[39m=\u001b[39m \u001b[39mself\u001b[39;49m\u001b[39m.\u001b[39;49m_data_manager\u001b[39m.\u001b[39;49mprocess(\u001b[39mself\u001b[39;49m\u001b[39m.\u001b[39;49m_model, \u001b[39mself\u001b[39;49m\u001b[39m.\u001b[39;49m_data, \u001b[39mself\u001b[39;49m\u001b[39m.\u001b[39;49m_default)\n\u001b[0;32m    169\u001b[0m \u001b[39mself\u001b[39m\u001b[39m.\u001b[39m_data_manager\u001b[39m.\u001b[39mclear()\n\u001b[0;32m    170\u001b[0m \u001b[39m#\u001b[39;00m\n\u001b[0;32m    171\u001b[0m \u001b[39m# Disconnect\u001b[39;00m\n\u001b[0;32m    172\u001b[0m \u001b[39m#\u001b[39;00m\n",
      "File \u001b[1;32mc:\\Users\\Ricardo\\AppData\\Local\\Programs\\Python\\Python310\\lib\\site-packages\\pyomo\\dataportal\\plugins\\datacommands.py:61\u001b[0m, in \u001b[0;36mPyomoDataCommands.process\u001b[1;34m(self, model, data, default)\u001b[0m\n\u001b[0;32m     57\u001b[0m \u001b[39mdef\u001b[39;00m \u001b[39mprocess\u001b[39m(\u001b[39mself\u001b[39m, model, data, default):\n\u001b[0;32m     58\u001b[0m \u001b[39m    \u001b[39m\u001b[39m\"\"\"\u001b[39;00m\n\u001b[0;32m     59\u001b[0m \u001b[39m    Read Pyomo data commands and process the data.\u001b[39;00m\n\u001b[0;32m     60\u001b[0m \u001b[39m    \"\"\"\u001b[39;00m\n\u001b[1;32m---> 61\u001b[0m     _process_include([\u001b[39m'\u001b[39;49m\u001b[39minclude\u001b[39;49m\u001b[39m'\u001b[39;49m, \u001b[39mself\u001b[39;49m\u001b[39m.\u001b[39;49mfilename], model, data, default, \u001b[39mself\u001b[39;49m\u001b[39m.\u001b[39;49moptions)\n",
      "File \u001b[1;32mc:\\Users\\Ricardo\\AppData\\Local\\Programs\\Python\\Python310\\lib\\site-packages\\pyomo\\dataportal\\process_data.py:641\u001b[0m, in \u001b[0;36m_process_include\u001b[1;34m(cmd, _model, _data, _default, options)\u001b[0m\n\u001b[0;32m    639\u001b[0m Lineno \u001b[39m=\u001b[39m \u001b[39m0\u001b[39m\n\u001b[0;32m    640\u001b[0m \u001b[39mtry\u001b[39;00m:\n\u001b[1;32m--> 641\u001b[0m     scenarios \u001b[39m=\u001b[39m parse_data_commands(filename\u001b[39m=\u001b[39;49mcmd[\u001b[39m1\u001b[39;49m])\n\u001b[0;32m    642\u001b[0m \u001b[39mexcept\u001b[39;00m \u001b[39mIOError\u001b[39;00m:\n\u001b[0;32m    643\u001b[0m     \u001b[39mraise\u001b[39;00m\n",
      "File \u001b[1;32mc:\\Users\\Ricardo\\AppData\\Local\\Programs\\Python\\Python310\\lib\\site-packages\\pyomo\\dataportal\\parse_datacmds.py:615\u001b[0m, in \u001b[0;36mparse_data_commands\u001b[1;34m(data, filename, debug, outputdir)\u001b[0m\n\u001b[0;32m    612\u001b[0m \u001b[39mif\u001b[39;00m data \u001b[39mis\u001b[39;00m \u001b[39mNone\u001b[39;00m:\n\u001b[0;32m    613\u001b[0m     \u001b[39mreturn\u001b[39;00m \u001b[39mNone\u001b[39;00m\n\u001b[1;32m--> 615\u001b[0m dat_yaccer\u001b[39m.\u001b[39;49mparse(data, lexer\u001b[39m=\u001b[39;49mdat_lexer, debug\u001b[39m=\u001b[39;49mdebug)\n\u001b[0;32m    616\u001b[0m \u001b[39mreturn\u001b[39;00m _parse_info\n",
      "File \u001b[1;32mc:\\Users\\Ricardo\\AppData\\Local\\Programs\\Python\\Python310\\lib\\site-packages\\ply\\yacc.py:333\u001b[0m, in \u001b[0;36mLRParser.parse\u001b[1;34m(self, input, lexer, debug, tracking, tokenfunc)\u001b[0m\n\u001b[0;32m    331\u001b[0m     \u001b[39mreturn\u001b[39;00m \u001b[39mself\u001b[39m\u001b[39m.\u001b[39mparseopt(\u001b[39minput\u001b[39m, lexer, debug, tracking, tokenfunc)\n\u001b[0;32m    332\u001b[0m \u001b[39melse\u001b[39;00m:\n\u001b[1;32m--> 333\u001b[0m     \u001b[39mreturn\u001b[39;00m \u001b[39mself\u001b[39;49m\u001b[39m.\u001b[39;49mparseopt_notrack(\u001b[39minput\u001b[39;49m, lexer, debug, tracking, tokenfunc)\n",
      "File \u001b[1;32mc:\\Users\\Ricardo\\AppData\\Local\\Programs\\Python\\Python310\\lib\\site-packages\\ply\\yacc.py:1201\u001b[0m, in \u001b[0;36mLRParser.parseopt_notrack\u001b[1;34m(self, input, lexer, debug, tracking, tokenfunc)\u001b[0m\n\u001b[0;32m   1199\u001b[0m     errtoken\u001b[39m.\u001b[39mlexer \u001b[39m=\u001b[39m lexer\n\u001b[0;32m   1200\u001b[0m \u001b[39mself\u001b[39m\u001b[39m.\u001b[39mstate \u001b[39m=\u001b[39m state\n\u001b[1;32m-> 1201\u001b[0m tok \u001b[39m=\u001b[39m call_errorfunc(\u001b[39mself\u001b[39;49m\u001b[39m.\u001b[39;49merrorfunc, errtoken, \u001b[39mself\u001b[39;49m)\n\u001b[0;32m   1202\u001b[0m \u001b[39mif\u001b[39;00m \u001b[39mself\u001b[39m\u001b[39m.\u001b[39merrorok:\n\u001b[0;32m   1203\u001b[0m     \u001b[39m# User must have done some kind of panic\u001b[39;00m\n\u001b[0;32m   1204\u001b[0m     \u001b[39m# mode recovery on their own.  The\u001b[39;00m\n\u001b[0;32m   1205\u001b[0m     \u001b[39m# returned token is the next lookahead\u001b[39;00m\n\u001b[0;32m   1206\u001b[0m     lookahead \u001b[39m=\u001b[39m tok\n",
      "File \u001b[1;32mc:\\Users\\Ricardo\\AppData\\Local\\Programs\\Python\\Python310\\lib\\site-packages\\ply\\yacc.py:192\u001b[0m, in \u001b[0;36mcall_errorfunc\u001b[1;34m(errorfunc, token, parser)\u001b[0m\n\u001b[0;32m    190\u001b[0m _token \u001b[39m=\u001b[39m parser\u001b[39m.\u001b[39mtoken\n\u001b[0;32m    191\u001b[0m _restart \u001b[39m=\u001b[39m parser\u001b[39m.\u001b[39mrestart\n\u001b[1;32m--> 192\u001b[0m r \u001b[39m=\u001b[39m errorfunc(token)\n\u001b[0;32m    193\u001b[0m \u001b[39mtry\u001b[39;00m:\n\u001b[0;32m    194\u001b[0m     \u001b[39mdel\u001b[39;00m _errok, _token, _restart\n",
      "File \u001b[1;32mc:\\Users\\Ricardo\\AppData\\Local\\Programs\\Python\\Python310\\lib\\site-packages\\pyomo\\dataportal\\parse_datacmds.py:499\u001b[0m, in \u001b[0;36mp_error\u001b[1;34m(p)\u001b[0m\n\u001b[0;32m    492\u001b[0m \u001b[39melse\u001b[39;00m:\n\u001b[0;32m    493\u001b[0m     tmp \u001b[39m=\u001b[39m \u001b[39m\"\u001b[39m\u001b[39mSyntax error at token \u001b[39m\u001b[39m'\u001b[39m\u001b[39m%s\u001b[39;00m\u001b[39m'\u001b[39m\u001b[39m with value \u001b[39m\u001b[39m'\u001b[39m\u001b[39m%s\u001b[39;00m\u001b[39m'\u001b[39m\u001b[39m (line \u001b[39m\u001b[39m%s\u001b[39;00m\u001b[39m, column \u001b[39m\u001b[39m%s\u001b[39;00m\u001b[39m)\u001b[39m\u001b[39m\"\u001b[39m \u001b[39m%\u001b[39m (\n\u001b[0;32m    494\u001b[0m         p\u001b[39m.\u001b[39mtype,\n\u001b[0;32m    495\u001b[0m         p\u001b[39m.\u001b[39mvalue,\n\u001b[0;32m    496\u001b[0m         p\u001b[39m.\u001b[39mlineno,\n\u001b[0;32m    497\u001b[0m         _lex_token_position(p),\n\u001b[0;32m    498\u001b[0m     )\n\u001b[1;32m--> 499\u001b[0m \u001b[39mraise\u001b[39;00m \u001b[39mIOError\u001b[39;00m(tmp)\n",
      "\u001b[1;31mOSError\u001b[0m: Syntax error at token 'WORD' with value 'Set' (line 5, column 0)"
     ]
    }
   ],
   "source": [
    "# %%writefile olive_exp.py\n",
    "from pyomo.environ import * \n",
    "\n",
    "model = AbstractModel()\n",
    "\n",
    "model.C = Set()\n",
    "\n",
    "# Initialize the Points with the cartesian product of the countries we have.\n",
    "model.P = Set(within = model.C*model.C)\n",
    "\n",
    "# Spain is the starting point\n",
    "model.origin = Param(within = model.C)\n",
    "\n",
    "\n",
    "model.maximum = Param(model.P)\n",
    "\n",
    "model.needs = Param(model.C)\n",
    "\n",
    "model.flow = Var(model.P, within = NonNegativeReals)\n",
    "\n",
    "\n",
    "# Objective Function\n",
    "\n",
    "def objective_rule(model):\n",
    "\n",
    "    obj_val = sum(model.flow[origin,dest] for origin,dest in model.P if dest =='Ireland' or dest =='Poland' or dest == 'Italy' or dest =='Switzerland')\n",
    "\n",
    "    return obj_val\n",
    "\n",
    "model.obj = Objective(rule = objective_rule, sense = maximize)\n",
    "\n",
    "\n",
    "def allowed_quantity(model, m, n):\n",
    "    return model.flow[m, n] <= model.maximum[m, n]\n",
    "\n",
    "def flow_rule(model , k):\n",
    "    # if it is a final destination - dont flow out . If it is a \n",
    "    if k =='Ireland' or k =='Poland' or k == 'Italy' or k =='Switzerland' or k ==value(model.origin):\n",
    "        return Constraint.Skip\n",
    "    \n",
    "    # the inflow from one origin to a destination MUST equal the outflow from origin to destination.\n",
    "    # calculating the inflow\n",
    "    inflow = sum(model.flow[origin,dest] for (origin,dest) in model.P if dest==k)\n",
    "    # calculating the outflow.\n",
    "    outflow = sum(model.flow[origin,dest] for (origin,dest) in model.P if origin==k)\n",
    "\n",
    "    return inflow==outflow\n",
    "\n",
    "def requested_oil(model, i):\n",
    "    if i== \"Italy\" or i== \"Switzerland\" or i== \"Ireland\" or i== \"Poland\":\n",
    "        return sum(model.flow[j, k] for (j,k) in model.P if k==i)>=model.needs[i]\n",
    "    else:\n",
    "        return Constraint.Skip\n",
    "\n",
    "\n",
    "model.flow_rule = Constraint(model.C, rule = flow_rule)\n",
    "model.allowed_quantity = Constraint(model.P, rule = allowed_quantity)\n",
    "model.requested_oil = Constraint(model.C, rule = requested_oil)\n",
    "\n",
    "instance = model.create_instance(\"olive.dat\")\n",
    "\n",
    "# Solve the model\n",
    "solver = SolverFactory(\"glpk\")\n",
    "solver.solve(instance, tee=True)\n",
    "\n",
    "# Print the results\n",
    "instance.display()\n",
    "    "
   ]
  },
  {
   "cell_type": "code",
   "execution_count": 81,
   "metadata": {},
   "outputs": [
    {
     "ename": "OSError",
     "evalue": "Syntax error at token 'WORD' with value 'Set' (line 5, column 0)",
     "output_type": "error",
     "traceback": [
      "\u001b[1;31m---------------------------------------------------------------------------\u001b[0m",
      "\u001b[1;31mOSError\u001b[0m                                   Traceback (most recent call last)",
      "\u001b[1;32mc:\\Users\\Ricardo\\Desktop\\HW2-Optimization\\HW2.ipynb Cell 8\u001b[0m line \u001b[0;36m1\n\u001b[1;32m----> <a href='vscode-notebook-cell:/c%3A/Users/Ricardo/Desktop/HW2-Optimization/HW2.ipynb#X25sZmlsZQ%3D%3D?line=0'>1</a>\u001b[0m instance \u001b[39m=\u001b[39m model\u001b[39m.\u001b[39;49mcreate_instance(\u001b[39m\"\u001b[39;49m\u001b[39molive.dat\u001b[39;49m\u001b[39m\"\u001b[39;49m)\n\u001b[0;32m      <a href='vscode-notebook-cell:/c%3A/Users/Ricardo/Desktop/HW2-Optimization/HW2.ipynb#X25sZmlsZQ%3D%3D?line=2'>3</a>\u001b[0m \u001b[39m# Solve the model\u001b[39;00m\n\u001b[0;32m      <a href='vscode-notebook-cell:/c%3A/Users/Ricardo/Desktop/HW2-Optimization/HW2.ipynb#X25sZmlsZQ%3D%3D?line=3'>4</a>\u001b[0m solver \u001b[39m=\u001b[39m SolverFactory(\u001b[39m\"\u001b[39m\u001b[39mglpk\u001b[39m\u001b[39m\"\u001b[39m)\n",
      "File \u001b[1;32mc:\\Users\\Ricardo\\AppData\\Local\\Programs\\Python\\Python310\\lib\\site-packages\\pyomo\\core\\base\\PyomoModel.py:734\u001b[0m, in \u001b[0;36mModel.create_instance\u001b[1;34m(self, filename, data, name, namespace, namespaces, profile_memory, report_timing, **kwds)\u001b[0m\n\u001b[0;32m    731\u001b[0m \u001b[39mif\u001b[39;00m \u001b[39mNone\u001b[39;00m \u001b[39mnot\u001b[39;00m \u001b[39min\u001b[39;00m _namespaces:\n\u001b[0;32m    732\u001b[0m     _namespaces\u001b[39m.\u001b[39mappend(\u001b[39mNone\u001b[39;00m)\n\u001b[1;32m--> 734\u001b[0m instance\u001b[39m.\u001b[39;49mload(data, namespaces\u001b[39m=\u001b[39;49m_namespaces, profile_memory\u001b[39m=\u001b[39;49mprofile_memory)\n\u001b[0;32m    736\u001b[0m \u001b[39m#\u001b[39;00m\n\u001b[0;32m    737\u001b[0m \u001b[39m# Indicate that the model is concrete/constructed\u001b[39;00m\n\u001b[0;32m    738\u001b[0m \u001b[39m#\u001b[39;00m\n\u001b[0;32m    739\u001b[0m instance\u001b[39m.\u001b[39m_constructed \u001b[39m=\u001b[39m \u001b[39mTrue\u001b[39;00m\n",
      "File \u001b[1;32mc:\\Users\\Ricardo\\AppData\\Local\\Programs\\Python\\Python310\\lib\\site-packages\\pyomo\\core\\base\\PyomoModel.py:763\u001b[0m, in \u001b[0;36mModel.load\u001b[1;34m(self, arg, namespaces, profile_memory)\u001b[0m\n\u001b[0;32m    759\u001b[0m \u001b[39m\u001b[39m\u001b[39m\"\"\"\u001b[39;00m\n\u001b[0;32m    760\u001b[0m \u001b[39mLoad the model with data from a file, dictionary or DataPortal object.\u001b[39;00m\n\u001b[0;32m    761\u001b[0m \u001b[39m\"\"\"\u001b[39;00m\n\u001b[0;32m    762\u001b[0m \u001b[39mif\u001b[39;00m arg \u001b[39mis\u001b[39;00m \u001b[39mNone\u001b[39;00m \u001b[39mor\u001b[39;00m \u001b[39misinstance\u001b[39m(arg, \u001b[39mstr\u001b[39m):\n\u001b[1;32m--> 763\u001b[0m     dp \u001b[39m=\u001b[39m DataPortal(filename\u001b[39m=\u001b[39;49marg, model\u001b[39m=\u001b[39;49m\u001b[39mself\u001b[39;49m)\n\u001b[0;32m    764\u001b[0m \u001b[39melif\u001b[39;00m \u001b[39mtype\u001b[39m(arg) \u001b[39mis\u001b[39;00m DataPortal:\n\u001b[0;32m    765\u001b[0m     dp \u001b[39m=\u001b[39m arg\n",
      "File \u001b[1;32mc:\\Users\\Ricardo\\AppData\\Local\\Programs\\Python\\Python310\\lib\\site-packages\\pyomo\\dataportal\\DataPortal.py:71\u001b[0m, in \u001b[0;36mDataPortal.__init__\u001b[1;34m(self, *args, **kwds)\u001b[0m\n\u001b[0;32m     69\u001b[0m     filename \u001b[39m=\u001b[39m kwds\u001b[39m.\u001b[39mpop(\u001b[39m'\u001b[39m\u001b[39mfilename\u001b[39m\u001b[39m'\u001b[39m)\n\u001b[0;32m     70\u001b[0m     \u001b[39mself\u001b[39m\u001b[39m.\u001b[39mconnect(filename\u001b[39m=\u001b[39mfilename, \u001b[39m*\u001b[39m\u001b[39m*\u001b[39mkwds)\n\u001b[1;32m---> 71\u001b[0m     \u001b[39mself\u001b[39;49m\u001b[39m.\u001b[39;49mload()\n\u001b[0;32m     72\u001b[0m     \u001b[39mself\u001b[39m\u001b[39m.\u001b[39mdisconnect()\n\u001b[0;32m     73\u001b[0m \u001b[39m# Or load data from a dictionary\u001b[39;00m\n",
      "File \u001b[1;32mc:\\Users\\Ricardo\\AppData\\Local\\Programs\\Python\\Python310\\lib\\site-packages\\pyomo\\dataportal\\DataPortal.py:168\u001b[0m, in \u001b[0;36mDataPortal.load\u001b[1;34m(self, **kwds)\u001b[0m\n\u001b[0;32m    166\u001b[0m     logger\u001b[39m.\u001b[39mdebug(\u001b[39m\"\u001b[39m\u001b[39mProcessing data ...\u001b[39m\u001b[39m\"\u001b[39m)\n\u001b[0;32m    167\u001b[0m \u001b[39mself\u001b[39m\u001b[39m.\u001b[39m_data_manager\u001b[39m.\u001b[39mread()\n\u001b[1;32m--> 168\u001b[0m status \u001b[39m=\u001b[39m \u001b[39mself\u001b[39;49m\u001b[39m.\u001b[39;49m_data_manager\u001b[39m.\u001b[39;49mprocess(\u001b[39mself\u001b[39;49m\u001b[39m.\u001b[39;49m_model, \u001b[39mself\u001b[39;49m\u001b[39m.\u001b[39;49m_data, \u001b[39mself\u001b[39;49m\u001b[39m.\u001b[39;49m_default)\n\u001b[0;32m    169\u001b[0m \u001b[39mself\u001b[39m\u001b[39m.\u001b[39m_data_manager\u001b[39m.\u001b[39mclear()\n\u001b[0;32m    170\u001b[0m \u001b[39m#\u001b[39;00m\n\u001b[0;32m    171\u001b[0m \u001b[39m# Disconnect\u001b[39;00m\n\u001b[0;32m    172\u001b[0m \u001b[39m#\u001b[39;00m\n",
      "File \u001b[1;32mc:\\Users\\Ricardo\\AppData\\Local\\Programs\\Python\\Python310\\lib\\site-packages\\pyomo\\dataportal\\plugins\\datacommands.py:61\u001b[0m, in \u001b[0;36mPyomoDataCommands.process\u001b[1;34m(self, model, data, default)\u001b[0m\n\u001b[0;32m     57\u001b[0m \u001b[39mdef\u001b[39;00m \u001b[39mprocess\u001b[39m(\u001b[39mself\u001b[39m, model, data, default):\n\u001b[0;32m     58\u001b[0m \u001b[39m    \u001b[39m\u001b[39m\"\"\"\u001b[39;00m\n\u001b[0;32m     59\u001b[0m \u001b[39m    Read Pyomo data commands and process the data.\u001b[39;00m\n\u001b[0;32m     60\u001b[0m \u001b[39m    \"\"\"\u001b[39;00m\n\u001b[1;32m---> 61\u001b[0m     _process_include([\u001b[39m'\u001b[39;49m\u001b[39minclude\u001b[39;49m\u001b[39m'\u001b[39;49m, \u001b[39mself\u001b[39;49m\u001b[39m.\u001b[39;49mfilename], model, data, default, \u001b[39mself\u001b[39;49m\u001b[39m.\u001b[39;49moptions)\n",
      "File \u001b[1;32mc:\\Users\\Ricardo\\AppData\\Local\\Programs\\Python\\Python310\\lib\\site-packages\\pyomo\\dataportal\\process_data.py:641\u001b[0m, in \u001b[0;36m_process_include\u001b[1;34m(cmd, _model, _data, _default, options)\u001b[0m\n\u001b[0;32m    639\u001b[0m Lineno \u001b[39m=\u001b[39m \u001b[39m0\u001b[39m\n\u001b[0;32m    640\u001b[0m \u001b[39mtry\u001b[39;00m:\n\u001b[1;32m--> 641\u001b[0m     scenarios \u001b[39m=\u001b[39m parse_data_commands(filename\u001b[39m=\u001b[39;49mcmd[\u001b[39m1\u001b[39;49m])\n\u001b[0;32m    642\u001b[0m \u001b[39mexcept\u001b[39;00m \u001b[39mIOError\u001b[39;00m:\n\u001b[0;32m    643\u001b[0m     \u001b[39mraise\u001b[39;00m\n",
      "File \u001b[1;32mc:\\Users\\Ricardo\\AppData\\Local\\Programs\\Python\\Python310\\lib\\site-packages\\pyomo\\dataportal\\parse_datacmds.py:615\u001b[0m, in \u001b[0;36mparse_data_commands\u001b[1;34m(data, filename, debug, outputdir)\u001b[0m\n\u001b[0;32m    612\u001b[0m \u001b[39mif\u001b[39;00m data \u001b[39mis\u001b[39;00m \u001b[39mNone\u001b[39;00m:\n\u001b[0;32m    613\u001b[0m     \u001b[39mreturn\u001b[39;00m \u001b[39mNone\u001b[39;00m\n\u001b[1;32m--> 615\u001b[0m dat_yaccer\u001b[39m.\u001b[39;49mparse(data, lexer\u001b[39m=\u001b[39;49mdat_lexer, debug\u001b[39m=\u001b[39;49mdebug)\n\u001b[0;32m    616\u001b[0m \u001b[39mreturn\u001b[39;00m _parse_info\n",
      "File \u001b[1;32mc:\\Users\\Ricardo\\AppData\\Local\\Programs\\Python\\Python310\\lib\\site-packages\\ply\\yacc.py:333\u001b[0m, in \u001b[0;36mLRParser.parse\u001b[1;34m(self, input, lexer, debug, tracking, tokenfunc)\u001b[0m\n\u001b[0;32m    331\u001b[0m     \u001b[39mreturn\u001b[39;00m \u001b[39mself\u001b[39m\u001b[39m.\u001b[39mparseopt(\u001b[39minput\u001b[39m, lexer, debug, tracking, tokenfunc)\n\u001b[0;32m    332\u001b[0m \u001b[39melse\u001b[39;00m:\n\u001b[1;32m--> 333\u001b[0m     \u001b[39mreturn\u001b[39;00m \u001b[39mself\u001b[39;49m\u001b[39m.\u001b[39;49mparseopt_notrack(\u001b[39minput\u001b[39;49m, lexer, debug, tracking, tokenfunc)\n",
      "File \u001b[1;32mc:\\Users\\Ricardo\\AppData\\Local\\Programs\\Python\\Python310\\lib\\site-packages\\ply\\yacc.py:1201\u001b[0m, in \u001b[0;36mLRParser.parseopt_notrack\u001b[1;34m(self, input, lexer, debug, tracking, tokenfunc)\u001b[0m\n\u001b[0;32m   1199\u001b[0m     errtoken\u001b[39m.\u001b[39mlexer \u001b[39m=\u001b[39m lexer\n\u001b[0;32m   1200\u001b[0m \u001b[39mself\u001b[39m\u001b[39m.\u001b[39mstate \u001b[39m=\u001b[39m state\n\u001b[1;32m-> 1201\u001b[0m tok \u001b[39m=\u001b[39m call_errorfunc(\u001b[39mself\u001b[39;49m\u001b[39m.\u001b[39;49merrorfunc, errtoken, \u001b[39mself\u001b[39;49m)\n\u001b[0;32m   1202\u001b[0m \u001b[39mif\u001b[39;00m \u001b[39mself\u001b[39m\u001b[39m.\u001b[39merrorok:\n\u001b[0;32m   1203\u001b[0m     \u001b[39m# User must have done some kind of panic\u001b[39;00m\n\u001b[0;32m   1204\u001b[0m     \u001b[39m# mode recovery on their own.  The\u001b[39;00m\n\u001b[0;32m   1205\u001b[0m     \u001b[39m# returned token is the next lookahead\u001b[39;00m\n\u001b[0;32m   1206\u001b[0m     lookahead \u001b[39m=\u001b[39m tok\n",
      "File \u001b[1;32mc:\\Users\\Ricardo\\AppData\\Local\\Programs\\Python\\Python310\\lib\\site-packages\\ply\\yacc.py:192\u001b[0m, in \u001b[0;36mcall_errorfunc\u001b[1;34m(errorfunc, token, parser)\u001b[0m\n\u001b[0;32m    190\u001b[0m _token \u001b[39m=\u001b[39m parser\u001b[39m.\u001b[39mtoken\n\u001b[0;32m    191\u001b[0m _restart \u001b[39m=\u001b[39m parser\u001b[39m.\u001b[39mrestart\n\u001b[1;32m--> 192\u001b[0m r \u001b[39m=\u001b[39m errorfunc(token)\n\u001b[0;32m    193\u001b[0m \u001b[39mtry\u001b[39;00m:\n\u001b[0;32m    194\u001b[0m     \u001b[39mdel\u001b[39;00m _errok, _token, _restart\n",
      "File \u001b[1;32mc:\\Users\\Ricardo\\AppData\\Local\\Programs\\Python\\Python310\\lib\\site-packages\\pyomo\\dataportal\\parse_datacmds.py:499\u001b[0m, in \u001b[0;36mp_error\u001b[1;34m(p)\u001b[0m\n\u001b[0;32m    492\u001b[0m \u001b[39melse\u001b[39;00m:\n\u001b[0;32m    493\u001b[0m     tmp \u001b[39m=\u001b[39m \u001b[39m\"\u001b[39m\u001b[39mSyntax error at token \u001b[39m\u001b[39m'\u001b[39m\u001b[39m%s\u001b[39;00m\u001b[39m'\u001b[39m\u001b[39m with value \u001b[39m\u001b[39m'\u001b[39m\u001b[39m%s\u001b[39;00m\u001b[39m'\u001b[39m\u001b[39m (line \u001b[39m\u001b[39m%s\u001b[39;00m\u001b[39m, column \u001b[39m\u001b[39m%s\u001b[39;00m\u001b[39m)\u001b[39m\u001b[39m\"\u001b[39m \u001b[39m%\u001b[39m (\n\u001b[0;32m    494\u001b[0m         p\u001b[39m.\u001b[39mtype,\n\u001b[0;32m    495\u001b[0m         p\u001b[39m.\u001b[39mvalue,\n\u001b[0;32m    496\u001b[0m         p\u001b[39m.\u001b[39mlineno,\n\u001b[0;32m    497\u001b[0m         _lex_token_position(p),\n\u001b[0;32m    498\u001b[0m     )\n\u001b[1;32m--> 499\u001b[0m \u001b[39mraise\u001b[39;00m \u001b[39mIOError\u001b[39;00m(tmp)\n",
      "\u001b[1;31mOSError\u001b[0m: Syntax error at token 'WORD' with value 'Set' (line 5, column 0)"
     ]
    }
   ],
   "source": [
    "instance = model.create_instance(\"olive.dat\")\n",
    "\n",
    "# Solve the model\n",
    "solver = SolverFactory(\"glpk\")\n",
    "solver.solve(instance, tee=True)\n",
    "\n",
    "# Print the results\n",
    "instance.display()"
   ]
  },
  {
   "cell_type": "code",
   "execution_count": 77,
   "metadata": {},
   "outputs": [
    {
     "name": "stdout",
     "output_type": "stream",
     "text": [
      "[    0.00] Setting up Pyomo environment\n",
      "[    0.00] Applying Pyomo preprocessing actions\n",
      "[    0.00] Creating model\n",
      "[    0.02] Pyomo Finished\n",
      "ERROR: Unexpected exception while running model: Syntax error at token 'WORD'\n",
      "with value 'Set' (line 1, column 0)\n"
     ]
    },
    {
     "name": "stderr",
     "output_type": "stream",
     "text": [
      "The system cannot find the file specified.\n"
     ]
    }
   ],
   "source": [
    "!pyomo solve  olive_exp.py  olive.dat --solver=glpk --summary \n",
    "\n",
    "!type results.yml"
   ]
  },
  {
   "cell_type": "code",
   "execution_count": 26,
   "metadata": {},
   "outputs": [
    {
     "name": "stdout",
     "output_type": "stream",
     "text": [
      "Overwriting flow.py\n"
     ]
    }
   ],
   "source": [
    "\n",
    "\n",
    "# Objective Function\n",
    "\n",
    "def objective_rule(model):\n",
    "\n",
    "    obj_val = sum(model.flow[origin,dest] for origin,dest in model.T if dest =='Ireland' or dest =='Poland' or dest == 'Italy' or dest =='Switzerland')\n",
    "\n",
    "    return obj_val\n",
    "\n",
    "model.obj = Objective(rule = objective_rule, sense = maximize)\n",
    "    "
   ]
  },
  {
   "cell_type": "markdown",
   "metadata": {},
   "source": [
    "## Constraints"
   ]
  },
  {
   "cell_type": "code",
   "execution_count": null,
   "metadata": {},
   "outputs": [],
   "source": [
    " # Constraint 1: do not exceed the maximum quantity of olive allowed in a connection\n",
    "\n",
    "def allowed_quantity(model, m, n):\n",
    " return model.flow[m, n] <= model.maximum[m, n]"
   ]
  },
  {
   "cell_type": "code",
   "execution_count": null,
   "metadata": {},
   "outputs": [],
   "source": [
    "def flow_rule(model , k):\n",
    "    # if it is a final destination - dont flow out . If it is a \n",
    "    if k =='Ireland' or k =='Poland' or k == 'Italy' or k =='Switzerland' or k ==value(model.origin):\n",
    "        return Constraint.Skip\n",
    "    \n",
    "    # the inflow from one origin to a destination MUST equal the outflow from origin to destination.\n",
    "    # calculating the inflow\n",
    "    inflow = sum(model.flow[origin,dest] for (origin,dest) in model.P if dest==k)\n",
    "    # calculating the outflow.\n",
    "    outflow = sum(model.flow[origin,dest] for (origin,dest) in model.P if origin==k)\n",
    "\n",
    "    return inflow==outflow\n",
    "        "
   ]
  },
  {
   "cell_type": "code",
   "execution_count": null,
   "metadata": {},
   "outputs": [],
   "source": [
    "# Constraint 3: ensure that each final destination is receiving requested amount of oil\n",
    "\n",
    "def requested_oil(model, i):\n",
    "    if i== \"Italy\" or i== \"Switzerland\" or i== \"Ireland\" or i== \"Poland\":\n",
    "        return sum(model.flow[j, k] for (j,k) in model.P if k==i)>=model.needs[i]\n",
    "    else:\n",
    "        return Constraint.Skip"
   ]
  },
  {
   "cell_type": "code",
   "execution_count": null,
   "metadata": {},
   "outputs": [],
   "source": [
    "model.flow_rule = Constraint(model.C, rule = flow_rule)\n",
    "model.allowed_quantity = Constraint(model.P, rule = allowed_quantity)\n",
    "model.requesedt_oil = Constraint(model.C, rule = requested_oil)\n"
   ]
  },
  {
   "cell_type": "markdown",
   "metadata": {},
   "source": []
  },
  {
   "cell_type": "markdown",
   "metadata": {},
   "source": [
    "# Bibliography\n",
    "\n",
    "\n"
   ]
  },
  {
   "cell_type": "markdown",
   "metadata": {},
   "source": [
    "https://oec.world/es/profile/bilateral-product/olive-oil-virgin/reporter/pol"
   ]
  }
 ],
 "metadata": {
  "kernelspec": {
   "display_name": "Python 3",
   "language": "python",
   "name": "python3"
  },
  "language_info": {
   "codemirror_mode": {
    "name": "ipython",
    "version": 3
   },
   "file_extension": ".py",
   "mimetype": "text/x-python",
   "name": "python",
   "nbconvert_exporter": "python",
   "pygments_lexer": "ipython3",
   "version": "3.10.7"
  }
 },
 "nbformat": 4,
 "nbformat_minor": 2
}
