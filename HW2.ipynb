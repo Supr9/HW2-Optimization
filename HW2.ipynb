{
 "cells": [
  {
   "cell_type": "markdown",
   "metadata": {},
   "source": [
    "#### Optimization & Analytics 23/24\n",
    "\n",
    "#### Names:\n",
    "\n",
    "##### - Mohamed Afif Chifaoui (100452024)\n",
    "##### - Ricardo Vazquez Alvarez (100417117)\n",
    "\n",
    "---\n"
   ]
  },
  {
   "cell_type": "markdown",
   "metadata": {},
   "source": [
    "# Network Optimization and Non-linear models HW2"
   ]
  },
  {
   "cell_type": "markdown",
   "metadata": {},
   "source": [
    "## 1. Network problem\n",
    "\n",
    "Our **network optimization** relies on the Max-Flow Problem.\n",
    "Spain is known to be the **main** exporter in the world of olive oil. According to the source **, in the year 2019, Spain exported around 210 thousand of tons.\n",
    "\n",
    "However, in order to export these quantities the neighboring countries of Spain only allow a certain amount of oil to be passed through their roads, denominated as *capacity*. On the other hand, each of the importer countires do require a minimum quantity of oil to keep this agreement with Spain.\n",
    "\n",
    "Our goal is to find the maximum amount of flow(tons of oil) that can circulate between countries in order to export the amount of olive oil required by each country.\n",
    "\n",
    "\n",
    "\n",
    "!['oil'](img/oil.jpg)"
   ]
  },
  {
   "cell_type": "markdown",
   "metadata": {},
   "source": [
    "### MODEL FORMULATION\n",
    "\n",
    "#### SETS\n",
    "\n",
    "- C = Set of Countries (each one represent a **node**)\n",
    "  \n",
    "    - (**Destinations:** Ireland, Poland, Italy, Switzerland ; **In between:** France, Monaco, UK, Belgium, Netherlands, and Germany).\n",
    "  \n",
    "  \n",
    "- P = Set of connections (connected countries for flow)\n",
    "    \n",
    "\n",
    "- M = Set of minimum amount of olive oil required by importer countries.\n",
    "\n",
    "\n",
    "\n",
    "#### PARAMETERS\n",
    "\n",
    "- Source = source node, in our case **SPAIN**\n",
    "- Destination = destination node, in our case (Ireland, Poland, Italy, Switzerland)\n",
    "- Maximum = amount of olive oil allowed to pass by the countries **in-between**\n",
    "- Needs = amount of olive oil required by importer countries\n",
    "\n",
    "\n",
    "#### VARIABLES\n",
    "\n",
    "- $Flow_{ij}$ = flow between origin country *i* and destination country *j*\n",
    "\n",
    "\n",
    "### OBJECTIVE\n",
    "\n",
    "Objective function is to maximize the amount of olive oil arriving at the final nodes (importer countries). Therefore, it is the total sum of the flow in every pair of countries **(connections)** that arrive to a final destination.\n",
    "\n",
    "$$\\text{max} \\;\\; \\sum_{i,j\\in P}^{} Flow_{ij}, \\forall j \\in Destination$$\n",
    "\n",
    "\n",
    "### CONSTRAINTS\n",
    "\n",
    "- 1. Flow of oil in each pair of connections (connected countries should not be higher than maximum allowed)\n",
    "\n",
    "        $\\forall{i,j \\in P}, flow_{ij} \\leq maximum_{ij}$\n",
    "\n",
    "- 2. Flow into a node must be equal to the flow out of a node except if we are in source or destination, to fulfill *Flow Conservation Rule*.\n",
    "  \n",
    "\n",
    "\n",
    "        $\\forall{b \\in C}, \\sum_{i \\in P} Flow_{ib}$==$ \\sum_{j \\in P} Flow_{bj}$ iff $b$!=$j \\in Destination$ or $i \\in Source$\n",
    "\n",
    "\n",
    "- 3. We must ensure that that importer countries receive at least their required amount of oil pacted in the agreement.\n",
    "\n",
    "\n",
    "        \n",
    "        $\\forall{b \\in C}, \\sum_{bj \\in C} Flow_{bj} \\geq Needs_j$\n",
    "\n",
    "\n",
    "\n",
    "\n",
    "\n",
    "\n"
   ]
  },
  {
   "cell_type": "code",
   "execution_count": 31,
   "metadata": {},
   "outputs": [],
   "source": [
    "import pandas as pd\n",
    "import numpy as np\n",
    "from pyomo.environ import * \n",
    "import pandas\n",
    "import math\n"
   ]
  },
  {
   "cell_type": "markdown",
   "metadata": {},
   "source": [
    "**NOTE: the amount for param needs (total amount of olive distributed for all countries) must be less than what Spain (exporter country) has.**"
   ]
  },
  {
   "cell_type": "code",
   "execution_count": 32,
   "metadata": {},
   "outputs": [
    {
     "name": "stdout",
     "output_type": "stream",
     "text": [
      "Overwriting olive.dat\n"
     ]
    }
   ],
   "source": [
    "%%writefile olive.dat\n",
    "set C := Spain Ireland Poland Italy Switzerland France Monaco UK Belgium Netherlands Germany;\n",
    "set P := (Spain, France) (Spain, Italy) (France, Monaco) (France, Italy) (France, Switzerland) (France, Belgium) (France, UK) (Belgium, Netherlands) (Belgium, Germany) (France, Germany) (UK, Ireland) (Netherlands, Germany) (Germany, Poland);\n",
    "\n",
    "param origin := Spain;\n",
    "\n",
    "\n",
    "param maximum :=\n",
    "Spain France 160\n",
    "Spain Italy 50\n",
    "France Monaco 20\n",
    "France Italy 150\n",
    "France Switzerland 40\n",
    "France Belgium 40\n",
    "France UK 50\n",
    "Belgium Netherlands 30\n",
    "Belgium Germany 40\n",
    "France Germany 30\n",
    "UK Ireland 50\n",
    "Netherlands Germany 20\n",
    "Germany Poland 60;\n",
    "\n",
    "param needs :=\n",
    "Ireland 50\n",
    "Poland 45\n",
    "Italy 100\n",
    "Switzerland 15;\n",
    "\n"
   ]
  },
  {
   "cell_type": "code",
   "execution_count": 33,
   "metadata": {},
   "outputs": [
    {
     "name": "stdout",
     "output_type": "stream",
     "text": [
      "Overwriting olive_exp.py\n"
     ]
    }
   ],
   "source": [
    "%%writefile olive_exp.py\n",
    "from pyomo.environ import * \n",
    "\n",
    "model = AbstractModel()\n",
    "\n",
    "model.C = Set()\n",
    "\n",
    "# Initialize the Points with the cartesian product of the countries we have.\n",
    "model.P = Set(within = model.C*model.C)\n",
    "\n",
    "# Spain is the starting point\n",
    "model.origin = Param(within = model.C)\n",
    "\n",
    "\n",
    "model.maximum = Param(model.P)\n",
    "\n",
    "model.needs = Param(model.C)\n",
    "\n",
    "model.flow = Var(model.P, within = NonNegativeReals)\n",
    "\n",
    "\n",
    "# Objective Function\n",
    "\n",
    "def objective_rule(model):\n",
    "\n",
    "    obj_val = sum(model.flow[origin,dest] for origin,dest in model.P if dest =='Ireland' or dest =='Poland' or dest == 'Italy' or dest =='Switzerland')\n",
    "\n",
    "    return obj_val\n",
    "\n",
    "model.obj = Objective(rule = objective_rule, sense = maximize)\n",
    "\n",
    "\n",
    "def allowed_quantity(model, m, n):\n",
    "    return model.flow[m, n] <= model.maximum[m, n]\n",
    "\n",
    "def flow_rule(model , k):\n",
    "    # if it is a final destination - dont flow out . If it is a \n",
    "    if k in [\"Italy\", \"Switzerland\", \"Ireland\",\"Poland\", value(model.origin)]:\n",
    "        return Constraint.Skip\n",
    "    \n",
    "    # the inflow from one origin to a destination MUST equal the outflow from origin to destination.\n",
    "    # calculating the inflow\n",
    "    inflow = sum(model.flow[origin,dest] for (origin,dest) in model.P if dest==k)\n",
    "    # calculating the outflow.\n",
    "    outflow = sum(model.flow[origin,dest] for (origin,dest) in model.P if origin==k)\n",
    "\n",
    "    return inflow==outflow\n",
    "\n",
    "def requested_oil(model, i):\n",
    "    if i in [\"Italy\", \"Switzerland\", \"Ireland\",\"Poland\"]:\n",
    "        return sum(model.flow[j, k] for (j,k) in model.P if k==i)>=model.needs[i]\n",
    "    else:\n",
    "        return Constraint.Skip\n",
    "\n",
    "\n",
    "model.flow_rule = Constraint(model.C, rule = flow_rule)\n",
    "model.allowed_quantity = Constraint(model.P, rule = allowed_quantity)\n",
    "model.requested_oil = Constraint(model.C, rule = requested_oil)\n"
   ]
  },
  {
   "cell_type": "code",
   "execution_count": 34,
   "metadata": {},
   "outputs": [
    {
     "name": "stdout",
     "output_type": "stream",
     "text": [
      "[    0.00] Setting up Pyomo environment\n",
      "[    0.00] Applying Pyomo preprocessing actions\n",
      "[    0.02] Creating model\n",
      "[    0.07] Applying solver\n",
      "[    0.32] Processing results\n",
      "    Number of solutions: 1\n",
      "    Solution Information\n",
      "      Gap: 0.0\n",
      "      Status: feasible\n",
      "      Function Value: 210.0\n",
      "    Solver results file: results.yml\n",
      "\n",
      "==========================================================\n",
      "Solution Summary\n",
      "==========================================================\n",
      "\n",
      "Model unknown\n",
      "\n",
      "  Variables:\n",
      "    flow : Size=13, Index=P\n",
      "        Key                        : Lower : Value : Upper : Fixed : Stale : Domain\n",
      "            ('Belgium', 'Germany') :     0 :  40.0 :  None : False : False : NonNegativeReals\n",
      "        ('Belgium', 'Netherlands') :     0 :   0.0 :  None : False : False : NonNegativeReals\n",
      "             ('France', 'Belgium') :     0 :  40.0 :  None : False : False : NonNegativeReals\n",
      "             ('France', 'Germany') :     0 :   5.0 :  None : False : False : NonNegativeReals\n",
      "               ('France', 'Italy') :     0 :  50.0 :  None : False : False : NonNegativeReals\n",
      "              ('France', 'Monaco') :     0 :   0.0 :  None : False : False : NonNegativeReals\n",
      "         ('France', 'Switzerland') :     0 :  15.0 :  None : False : False : NonNegativeReals\n",
      "                  ('France', 'UK') :     0 :  50.0 :  None : False : False : NonNegativeReals\n",
      "             ('Germany', 'Poland') :     0 :  45.0 :  None : False : False : NonNegativeReals\n",
      "        ('Netherlands', 'Germany') :     0 :   0.0 :  None : False : False : NonNegativeReals\n",
      "               ('Spain', 'France') :     0 : 160.0 :  None : False : False : NonNegativeReals\n",
      "                ('Spain', 'Italy') :     0 :  50.0 :  None : False : False : NonNegativeReals\n",
      "                 ('UK', 'Ireland') :     0 :  50.0 :  None : False : False : NonNegativeReals\n",
      "\n",
      "  Objectives:\n",
      "    obj : Size=1, Index=None, Active=True\n",
      "        Key  : Active : Value\n",
      "        None :   True : 210.0\n",
      "\n",
      "  Constraints:\n",
      "    flow_rule : Size=6\n",
      "        Key         : Lower : Body : Upper\n",
      "            Belgium :   0.0 :  0.0 :   0.0\n",
      "             France :   0.0 :  0.0 :   0.0\n",
      "            Germany :   0.0 :  0.0 :   0.0\n",
      "             Monaco :   0.0 :  0.0 :   0.0\n",
      "        Netherlands :   0.0 :  0.0 :   0.0\n",
      "                 UK :   0.0 :  0.0 :   0.0\n",
      "    allowed_quantity : Size=13\n",
      "        Key                        : Lower : Body  : Upper\n",
      "            ('Belgium', 'Germany') :  None :  40.0 :  40.0\n",
      "        ('Belgium', 'Netherlands') :  None :   0.0 :  30.0\n",
      "             ('France', 'Belgium') :  None :  40.0 :  40.0\n",
      "             ('France', 'Germany') :  None :   5.0 :  30.0\n",
      "               ('France', 'Italy') :  None :  50.0 : 150.0\n",
      "              ('France', 'Monaco') :  None :   0.0 :  20.0\n",
      "         ('France', 'Switzerland') :  None :  15.0 :  40.0\n",
      "                  ('France', 'UK') :  None :  50.0 :  50.0\n",
      "             ('Germany', 'Poland') :  None :  45.0 :  60.0\n",
      "        ('Netherlands', 'Germany') :  None :   0.0 :  20.0\n",
      "               ('Spain', 'France') :  None : 160.0 : 160.0\n",
      "                ('Spain', 'Italy') :  None :  50.0 :  50.0\n",
      "                 ('UK', 'Ireland') :  None :  50.0 :  50.0\n",
      "    requested_oil : Size=4\n",
      "        Key         : Lower : Body  : Upper\n",
      "            Ireland :  50.0 :  50.0 :  None\n",
      "              Italy : 100.0 : 100.0 :  None\n",
      "             Poland :  45.0 :  45.0 :  None\n",
      "        Switzerland :  15.0 :  15.0 :  None\n",
      "\n",
      "[    0.34] Applying Pyomo postprocessing actions\n",
      "[    0.34] Pyomo Finished\n",
      "# ==========================================================\n",
      "# = Solver Results                                         =\n",
      "# ==========================================================\n",
      "# ----------------------------------------------------------\n",
      "#   Problem Information\n",
      "# ----------------------------------------------------------\n",
      "Problem: \n",
      "- Name: unknown\n",
      "  Lower bound: 210.0\n",
      "  Upper bound: 210.0\n",
      "  Number of objectives: 1\n",
      "  Number of constraints: 23\n",
      "  Number of variables: 13\n",
      "  Number of nonzeros: 37\n",
      "  Sense: maximize\n",
      "# ----------------------------------------------------------\n",
      "#   Solver Information\n",
      "# ----------------------------------------------------------\n",
      "Solver: \n",
      "- Status: ok\n",
      "  Termination condition: optimal\n",
      "  Statistics: \n",
      "    Branch and bound: \n",
      "      Number of bounded subproblems: 0\n",
      "      Number of created subproblems: 0\n",
      "  Error rc: 0\n",
      "  Time: 0.07401609420776367\n",
      "# ----------------------------------------------------------\n",
      "#   Solution Information\n",
      "# ----------------------------------------------------------\n",
      "Solution: \n",
      "- number of solutions: 1\n",
      "  number of solutions displayed: 1\n",
      "- Gap: 0.0\n",
      "  Status: feasible\n",
      "  Message: None\n",
      "  Objective:\n",
      "    obj:\n",
      "      Value: 210\n",
      "  Variable:\n",
      "    flow[Belgium,Germany]:\n",
      "      Value: 40\n",
      "    flow[France,Belgium]:\n",
      "      Value: 40\n",
      "    flow[France,Germany]:\n",
      "      Value: 5\n",
      "    flow[France,Italy]:\n",
      "      Value: 50\n",
      "    flow[France,Switzerland]:\n",
      "      Value: 15\n",
      "    flow[France,UK]:\n",
      "      Value: 50\n",
      "    flow[Germany,Poland]:\n",
      "      Value: 45\n",
      "    flow[Spain,France]:\n",
      "      Value: 160\n",
      "    flow[Spain,Italy]:\n",
      "      Value: 50\n",
      "    flow[UK,Ireland]:\n",
      "      Value: 50\n",
      "  Constraint: No values\n"
     ]
    }
   ],
   "source": [
    "!pyomo solve  olive_exp.py  olive.dat --solver=glpk --summary \n",
    "\n",
    "!type results.yml"
   ]
  },
  {
   "cell_type": "markdown",
   "metadata": {},
   "source": [
    "#### ANALYSIS OF RESULTS"
   ]
  },
  {
   "cell_type": "markdown",
   "metadata": {},
   "source": [
    "> Obtained flows"
   ]
  },
  {
   "cell_type": "code",
   "execution_count": 35,
   "metadata": {},
   "outputs": [
    {
     "name": "stdout",
     "output_type": "stream",
     "text": [
      "40\n",
      "40\n",
      "5\n",
      "50\n",
      "15\n",
      "50\n",
      "45\n",
      "160\n",
      "50\n",
      "50\n"
     ]
    }
   ],
   "source": [
    "import yaml\n",
    "with open('results.yml') as f:\n",
    "    doc = yaml.load(f,Loader=yaml.FullLoader)\n",
    "    l1 = doc[\"Solution\"][1][\"Variable\"]\n",
    "    l1 = list(l1.items())\n",
    "    \n",
    "for i in l1:\n",
    "    print(i[1][\"Value\"])"
   ]
  },
  {
   "cell_type": "markdown",
   "metadata": {},
   "source": []
  },
  {
   "cell_type": "markdown",
   "metadata": {},
   "source": [
    "| Route | Max Flow solution | Maximum\n",
    "| --- | --- | --- |\n",
    "| Spain -> France | 160 | 160 |\n",
    "| Spain -> Italy | 50 | 50 |\n",
    "| France -> Belgium | 40 | 40 |\n",
    "| France -> Germany | 5 | 30 |\n",
    "| France -> Italy | 50 | 150 |\n",
    "| France -> Switzerland | 15 | 40 |\n",
    "| France -> UK | 50 | 50 |\n",
    "| Belgium -> Germany | 40 | 40 |\n",
    "| Germany -> Poland | 45 | 60 |\n",
    "| UK -> Ireland | 50 | 50 |\n"
   ]
  },
  {
   "cell_type": "markdown",
   "metadata": {},
   "source": [
    "## 2. Non-linear problem"
   ]
  },
  {
   "cell_type": "code",
   "execution_count": null,
   "metadata": {},
   "outputs": [],
   "source": []
  },
  {
   "cell_type": "code",
   "execution_count": null,
   "metadata": {},
   "outputs": [],
   "source": []
  },
  {
   "cell_type": "code",
   "execution_count": null,
   "metadata": {},
   "outputs": [],
   "source": []
  },
  {
   "cell_type": "code",
   "execution_count": null,
   "metadata": {},
   "outputs": [],
   "source": []
  },
  {
   "cell_type": "markdown",
   "metadata": {},
   "source": [
    "# Bibliography\n",
    "\n",
    "\n"
   ]
  },
  {
   "cell_type": "markdown",
   "metadata": {},
   "source": [
    "https://oec.world/es/profile/bilateral-product/olive-oil-virgin/reporter/pol"
   ]
  }
 ],
 "metadata": {
  "kernelspec": {
   "display_name": "Python 3",
   "language": "python",
   "name": "python3"
  },
  "language_info": {
   "codemirror_mode": {
    "name": "ipython",
    "version": 3
   },
   "file_extension": ".py",
   "mimetype": "text/x-python",
   "name": "python",
   "nbconvert_exporter": "python",
   "pygments_lexer": "ipython3",
   "version": "3.8.17"
  }
 },
 "nbformat": 4,
 "nbformat_minor": 2
}
